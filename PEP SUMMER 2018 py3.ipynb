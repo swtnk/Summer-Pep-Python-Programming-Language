{
 "cells": [
  {
   "cell_type": "markdown",
   "metadata": {},
   "source": [
    "<div class=\"table\">"
   ]
  },
  {
   "cell_type": "markdown",
   "metadata": {
    "toc": true
   },
   "source": [
    "<h1>Table of Contents<span class=\"tocSkip\"></span></h1>\n",
    "<div class=\"toc\"><ul class=\"toc-item\"><li><span><a href=\"#DAY-1\" data-toc-modified-id=\"DAY-1-1\"><span class=\"toc-item-num\">1&nbsp;&nbsp;</span>DAY 1</a></span><ul class=\"toc-item\"><li><span><a href=\"#GIT-and-GITHUB\" data-toc-modified-id=\"GIT-and-GITHUB-1.1\"><span class=\"toc-item-num\">1.1&nbsp;&nbsp;</span>GIT and GITHUB</a></span><ul class=\"toc-item\"><li><span><a href=\"#What-is-GIT?\" data-toc-modified-id=\"What-is-GIT?-1.1.1\"><span class=\"toc-item-num\">1.1.1&nbsp;&nbsp;</span>What is GIT?</a></span></li><li><span><a href=\"#What-is-GitHub?\" data-toc-modified-id=\"What-is-GitHub?-1.1.2\"><span class=\"toc-item-num\">1.1.2&nbsp;&nbsp;</span>What is GitHub?</a></span></li></ul></li><li><span><a href=\"#INSTALLATION\" data-toc-modified-id=\"INSTALLATION-1.2\"><span class=\"toc-item-num\">1.2&nbsp;&nbsp;</span>INSTALLATION</a></span></li><li><span><a href=\"#Getting-started-with-GIT-and-GitHub\" data-toc-modified-id=\"Getting-started-with-GIT-and-GitHub-1.3\"><span class=\"toc-item-num\">1.3&nbsp;&nbsp;</span>Getting started with GIT and GitHub</a></span><ul class=\"toc-item\"><li><ul class=\"toc-item\"><li><span><a href=\"#To-setting-up-username-and-email\" data-toc-modified-id=\"To-setting-up-username-and-email-1.3.0.1\"><span class=\"toc-item-num\">1.3.0.1&nbsp;&nbsp;</span>To setting-up username and email</a></span></li><li><span><a href=\"#To-check-working-username-and-email\" data-toc-modified-id=\"To-check-working-username-and-email-1.3.0.2\"><span class=\"toc-item-num\">1.3.0.2&nbsp;&nbsp;</span>To check working username and email</a></span></li><li><span><a href=\"#Change-to-directory\" data-toc-modified-id=\"Change-to-directory-1.3.0.3\"><span class=\"toc-item-num\">1.3.0.3&nbsp;&nbsp;</span>Change to directory</a></span></li><li><span><a href=\"#Initialize-the-empty-git-repository\" data-toc-modified-id=\"Initialize-the-empty-git-repository-1.3.0.4\"><span class=\"toc-item-num\">1.3.0.4&nbsp;&nbsp;</span>Initialize the empty git repository</a></span></li><li><span><a href=\"#Adding-file-to-repository\" data-toc-modified-id=\"Adding-file-to-repository-1.3.0.5\"><span class=\"toc-item-num\">1.3.0.5&nbsp;&nbsp;</span>Adding file to repository</a></span></li><li><span><a href=\"#getting-Status-of-file\" data-toc-modified-id=\"getting-Status-of-file-1.3.0.6\"><span class=\"toc-item-num\">1.3.0.6&nbsp;&nbsp;</span>getting Status of file</a></span></li><li><span><a href=\"#Commit-and-Message\" data-toc-modified-id=\"Commit-and-Message-1.3.0.7\"><span class=\"toc-item-num\">1.3.0.7&nbsp;&nbsp;</span>Commit and Message</a></span></li></ul></li><li><span><a href=\"#Tracking-Muliple-files\" data-toc-modified-id=\"Tracking-Muliple-files-1.3.1\"><span class=\"toc-item-num\">1.3.1&nbsp;&nbsp;</span>Tracking Muliple files</a></span><ul class=\"toc-item\"><li><span><a href=\"#Adding-multiple-files\" data-toc-modified-id=\"Adding-multiple-files-1.3.1.1\"><span class=\"toc-item-num\">1.3.1.1&nbsp;&nbsp;</span>Adding multiple files</a></span></li><li><span><a href=\"#Add-file-to-remote-repository\" data-toc-modified-id=\"Add-file-to-remote-repository-1.3.1.2\"><span class=\"toc-item-num\">1.3.1.2&nbsp;&nbsp;</span>Add file to remote repository</a></span></li><li><span><a href=\"#Uploading-the-files\" data-toc-modified-id=\"Uploading-the-files-1.3.1.3\"><span class=\"toc-item-num\">1.3.1.3&nbsp;&nbsp;</span>Uploading the files</a></span></li></ul></li></ul></li></ul></li><li><span><a href=\"#DAY-2\" data-toc-modified-id=\"DAY-2-2\"><span class=\"toc-item-num\">2&nbsp;&nbsp;</span>DAY 2</a></span><ul class=\"toc-item\"><li><span><a href=\"#Getting-started-with-python\" data-toc-modified-id=\"Getting-started-with-python-2.1\"><span class=\"toc-item-num\">2.1&nbsp;&nbsp;</span>Getting started with python</a></span><ul class=\"toc-item\"><li><span><a href=\"#Introduction\" data-toc-modified-id=\"Introduction-2.1.1\"><span class=\"toc-item-num\">2.1.1&nbsp;&nbsp;</span>Introduction</a></span><ul class=\"toc-item\"><li><span><a href=\"#What-is-Python?\" data-toc-modified-id=\"What-is-Python?-2.1.1.1\"><span class=\"toc-item-num\">2.1.1.1&nbsp;&nbsp;</span>What is Python?</a></span></li></ul></li></ul></li><li><span><a href=\"#Printing-on-screen\" data-toc-modified-id=\"Printing-on-screen-2.2\"><span class=\"toc-item-num\">2.2&nbsp;&nbsp;</span>Printing on screen</a></span></li><li><span><a href=\"#Taking-user-input\" data-toc-modified-id=\"Taking-user-input-2.3\"><span class=\"toc-item-num\">2.3&nbsp;&nbsp;</span>Taking user input</a></span><ul class=\"toc-item\"><li><span><a href=\"#Typecasting-while-taking-input-into-integer\" data-toc-modified-id=\"Typecasting-while-taking-input-into-integer-2.3.1\"><span class=\"toc-item-num\">2.3.1&nbsp;&nbsp;</span>Typecasting while taking input into integer</a></span></li><li><span><a href=\"#Exercise\" data-toc-modified-id=\"Exercise-2.3.2\"><span class=\"toc-item-num\">2.3.2&nbsp;&nbsp;</span>Exercise</a></span></li></ul></li></ul></li><li><span><a href=\"#DAY-3\" data-toc-modified-id=\"DAY-3-3\"><span class=\"toc-item-num\">3&nbsp;&nbsp;</span>DAY 3</a></span><ul class=\"toc-item\"><li><span><a href=\"#Data-Types-in-Python\" data-toc-modified-id=\"Data-Types-in-Python-3.1\"><span class=\"toc-item-num\">3.1&nbsp;&nbsp;</span>Data Types in Python</a></span><ul class=\"toc-item\"><li><span><a href=\"#Numeric\" data-toc-modified-id=\"Numeric-3.1.1\"><span class=\"toc-item-num\">3.1.1&nbsp;&nbsp;</span>Numeric</a></span></li><li><span><a href=\"#String\" data-toc-modified-id=\"String-3.1.2\"><span class=\"toc-item-num\">3.1.2&nbsp;&nbsp;</span>String</a></span></li><li><span><a href=\"#List\" data-toc-modified-id=\"List-3.1.3\"><span class=\"toc-item-num\">3.1.3&nbsp;&nbsp;</span>List</a></span></li><li><span><a href=\"#Tuple\" data-toc-modified-id=\"Tuple-3.1.4\"><span class=\"toc-item-num\">3.1.4&nbsp;&nbsp;</span>Tuple</a></span></li><li><span><a href=\"#Set\" data-toc-modified-id=\"Set-3.1.5\"><span class=\"toc-item-num\">3.1.5&nbsp;&nbsp;</span>Set</a></span></li></ul></li></ul></li><li><span><a href=\"#DAY-4\" data-toc-modified-id=\"DAY-4-4\"><span class=\"toc-item-num\">4&nbsp;&nbsp;</span>DAY 4</a></span><ul class=\"toc-item\"><li><span><a href=\"#Data-Types-in-Python-Continue...\" data-toc-modified-id=\"Data-Types-in-Python-Continue...-4.1\"><span class=\"toc-item-num\">4.1&nbsp;&nbsp;</span>Data Types in Python Continue...</a></span><ul class=\"toc-item\"><li><span><a href=\"#Dictionaries\" data-toc-modified-id=\"Dictionaries-4.1.1\"><span class=\"toc-item-num\">4.1.1&nbsp;&nbsp;</span>Dictionaries</a></span></li></ul></li><li><span><a href=\"#Conditionals\" data-toc-modified-id=\"Conditionals-4.2\"><span class=\"toc-item-num\">4.2&nbsp;&nbsp;</span>Conditionals</a></span><ul class=\"toc-item\"><li><span><a href=\"#if,-if-else,-if-elif(n)-else\" data-toc-modified-id=\"if,-if-else,-if-elif(n)-else-4.2.1\"><span class=\"toc-item-num\">4.2.1&nbsp;&nbsp;</span>if, if-else, if-elif(n)-else</a></span></li></ul></li><li><span><a href=\"#Loops\" data-toc-modified-id=\"Loops-4.3\"><span class=\"toc-item-num\">4.3&nbsp;&nbsp;</span>Loops</a></span><ul class=\"toc-item\"><li><span><a href=\"#While-loop\" data-toc-modified-id=\"While-loop-4.3.1\"><span class=\"toc-item-num\">4.3.1&nbsp;&nbsp;</span>While loop</a></span></li><li><span><a href=\"#For-loop\" data-toc-modified-id=\"For-loop-4.3.2\"><span class=\"toc-item-num\">4.3.2&nbsp;&nbsp;</span>For loop</a></span></li></ul></li><li><span><a href=\"#Functions\" data-toc-modified-id=\"Functions-4.4\"><span class=\"toc-item-num\">4.4&nbsp;&nbsp;</span>Functions</a></span></li></ul></li><li><span><a href=\"#DAY-5\" data-toc-modified-id=\"DAY-5-5\"><span class=\"toc-item-num\">5&nbsp;&nbsp;</span>DAY 5</a></span><ul class=\"toc-item\"><li><span><a href=\"#List-Copy\" data-toc-modified-id=\"List-Copy-5.1\"><span class=\"toc-item-num\">5.1&nbsp;&nbsp;</span>List Copy</a></span><ul class=\"toc-item\"><li><span><a href=\"#Shallow-Copy\" data-toc-modified-id=\"Shallow-Copy-5.1.1\"><span class=\"toc-item-num\">5.1.1&nbsp;&nbsp;</span>Shallow Copy</a></span></li><li><span><a href=\"#Deep-Copy\" data-toc-modified-id=\"Deep-Copy-5.1.2\"><span class=\"toc-item-num\">5.1.2&nbsp;&nbsp;</span>Deep Copy</a></span></li></ul></li><li><span><a href=\"#List-Comprehension\" data-toc-modified-id=\"List-Comprehension-5.2\"><span class=\"toc-item-num\">5.2&nbsp;&nbsp;</span>List Comprehension</a></span></li><li><span><a href=\"#Modules\" data-toc-modified-id=\"Modules-5.3\"><span class=\"toc-item-num\">5.3&nbsp;&nbsp;</span>Modules</a></span><ul class=\"toc-item\"><li><span><a href=\"#math\" data-toc-modified-id=\"math-5.3.1\"><span class=\"toc-item-num\">5.3.1&nbsp;&nbsp;</span>math</a></span></li><li><span><a href=\"#os\" data-toc-modified-id=\"os-5.3.2\"><span class=\"toc-item-num\">5.3.2&nbsp;&nbsp;</span>os</a></span></li><li><span><a href=\"#datetime,-time,-sys\" data-toc-modified-id=\"datetime,-time,-sys-5.3.3\"><span class=\"toc-item-num\">5.3.3&nbsp;&nbsp;</span>datetime, time, sys</a></span></li></ul></li><li><span><a href=\"#Exception-Handling\" data-toc-modified-id=\"Exception-Handling-5.4\"><span class=\"toc-item-num\">5.4&nbsp;&nbsp;</span>Exception Handling</a></span></li></ul></li><li><span><a href=\"#DAY-6\" data-toc-modified-id=\"DAY-6-6\"><span class=\"toc-item-num\">6&nbsp;&nbsp;</span>DAY 6</a></span><ul class=\"toc-item\"><li><span><a href=\"#Exception-Handling-Continue\" data-toc-modified-id=\"Exception-Handling-Continue-6.1\"><span class=\"toc-item-num\">6.1&nbsp;&nbsp;</span>Exception Handling Continue</a></span></li><li><span><a href=\"#File-Handling\" data-toc-modified-id=\"File-Handling-6.2\"><span class=\"toc-item-num\">6.2&nbsp;&nbsp;</span>File Handling</a></span></li></ul></li></ul></div>"
   ]
  },
  {
   "cell_type": "markdown",
   "metadata": {
    "ExecuteTime": {
     "end_time": "2018-06-06T04:20:02.344000Z",
     "start_time": "2018-06-06T04:20:02.328000Z"
    }
   },
   "source": [
    "# DAY 1\n",
    "---"
   ]
  },
  {
   "cell_type": "markdown",
   "metadata": {},
   "source": [
    "## GIT and GITHUB\n",
    "---\n",
    "### What is GIT?\n",
    "GIT is VCS(Version Control System). It can be defined as a tool which help us in keeping track of our project development over the time and it provide easy maintainability to it.\n",
    " __eg.: App1 1.0.3, App1 1.0.4, App1 1.1.0 ...__\n",
    "### What is GitHub?\n",
    "It is website for hosting and managing GIT online.\n",
    "\n",
    "### __Why there is a need to store previous version of projects? <a class=\"tocSkip\">\n",
    "This is so because sometime updated version might get some bugs in or need to maintain previous version due to demand by the uses."
   ]
  },
  {
   "cell_type": "markdown",
   "metadata": {},
   "source": [
    "## INSTALLATION\n",
    "\n",
    "Download binaries or executables from: https://git-scm.com/ <br>\n",
    "Follow the instructons step-by-step"
   ]
  },
  {
   "cell_type": "markdown",
   "metadata": {},
   "source": [
    "## Getting started with GIT and GitHub"
   ]
  },
  {
   "cell_type": "markdown",
   "metadata": {},
   "source": [
    "#### To setting-up username and email\n",
    "\\$ git config --global user.name \"your username\" <br>\n",
    "\\$ git config --global user.email \"your email id\"\n",
    "#### To check working username and email\n",
    "\\$ git config user.user <br>\n",
    "\\$ git config user.email\n",
    "#### Change to directory\n",
    "\\$ cd Documents/git-repo/test\\ day1/\n",
    "#### Initialize the empty git repository\n",
    "\\$ git init\n",
    "#### Adding file to repository\n",
    "\\$ git add \"test.txt\"\n",
    "#### getting Status of file\n",
    "\\$ git status\n",
    "#### Commit and Message\n",
    "\\$ git commit -m \"check\"\n",
    "### Tracking Muliple files\n",
    "#### Adding multiple files\n",
    "\\$ git add .\n",
    "#### Add file to remote repository\n",
    "\\$ git remote add origin https://github.com/swtnk/Repo1.git\n",
    "#### Uploading the files\n",
    "\\$ git push origin master"
   ]
  },
  {
   "cell_type": "markdown",
   "metadata": {},
   "source": [
    "<div id=\"day2\">\n",
    "---\n",
    "# DAY 2\n",
    "---"
   ]
  },
  {
   "cell_type": "markdown",
   "metadata": {},
   "source": [
    "## Getting started with python\n",
    "### Introduction\n",
    "#### What is Python?\n",
    "Python is an interpreted, object-oriented, high-level programming language with dynamic semantics. Its high-level built in data structures, combined with dynamic typing and dynamic binding, make it very attractive for Rapid Application Development, as well as for use as a scripting or glue language to connect existing components together. Python's simple, easy to learn syntax emphasizes readability and therefore reduces the cost of program maintenance. Python supports modules and packages, which encourages program modularity and code reuse. The Python interpreter and the extensive standard library are available in source or binary form without charge for all major platforms, and can be freely distributed."
   ]
  },
  {
   "cell_type": "markdown",
   "metadata": {},
   "source": [
    "## Printing on screen"
   ]
  },
  {
   "cell_type": "code",
   "execution_count": 1,
   "metadata": {
    "ExecuteTime": {
     "end_time": "2018-06-08T05:17:07.232938Z",
     "start_time": "2018-06-08T05:17:07.220948Z"
    }
   },
   "outputs": [
    {
     "name": "stdout",
     "output_type": "stream",
     "text": [
      "Swetank\n",
      "<class 'str'>\n"
     ]
    }
   ],
   "source": [
    "print(\"Swetank\")\n",
    "print(type(\"Swetank\"))"
   ]
  },
  {
   "cell_type": "code",
   "execution_count": 2,
   "metadata": {
    "ExecuteTime": {
     "end_time": "2018-06-08T05:17:07.354868Z",
     "start_time": "2018-06-08T05:17:07.236935Z"
    }
   },
   "outputs": [
    {
     "name": "stdout",
     "output_type": "stream",
     "text": [
      "Swetank\tSwetank\tSwetank\tSwetank\tSwetank\t\n",
      "'Swetank'\n",
      "I don't want to go outside\n",
      "My name is \"Swetank Subham\"\n",
      "My name is \\Swetank Subham\\\n",
      "SwetankSwetankSwetankSwetankSwetank\n"
     ]
    }
   ],
   "source": [
    "print(\"Swetank\\t\" * 5)\n",
    "print(\"'Swetank'\")\n",
    "print(\"I don't want to go outside\")\n",
    "print('My name is \"Swetank Subham\"')\n",
    "print('My name is \\\\Swetank Subham\\\\')\n",
    "print(\"Swetank\" * 5, sep=\" \")"
   ]
  },
  {
   "cell_type": "code",
   "execution_count": 3,
   "metadata": {
    "ExecuteTime": {
     "end_time": "2018-06-08T05:17:07.463806Z",
     "start_time": "2018-06-08T05:17:07.358867Z"
    }
   },
   "outputs": [
    {
     "name": "stdout",
     "output_type": "stream",
     "text": [
      "My name is Swetank\n",
      "1 < 22 < 333 < 4444\n"
     ]
    }
   ],
   "source": [
    "print(\"My\", \"name\", \"is\", \"Swetank\", sep=\" \")\n",
    "print(1, 22, 333, 4444, sep=\" < \")"
   ]
  },
  {
   "cell_type": "code",
   "execution_count": 4,
   "metadata": {
    "ExecuteTime": {
     "end_time": "2018-06-08T05:17:07.666691Z",
     "start_time": "2018-06-08T05:17:07.467803Z"
    }
   },
   "outputs": [
    {
     "name": "stdout",
     "output_type": "stream",
     "text": [
      "My name is Swetank***"
     ]
    }
   ],
   "source": [
    "print(\"My name is Swetank\", end=\"***\")"
   ]
  },
  {
   "cell_type": "code",
   "execution_count": 5,
   "metadata": {
    "ExecuteTime": {
     "end_time": "2018-06-08T05:17:07.832595Z",
     "start_time": "2018-06-08T05:17:07.670686Z"
    }
   },
   "outputs": [
    {
     "name": "stdout",
     "output_type": "stream",
     "text": [
      "1 *** 2 *** 3\n",
      "1 *** 2 *** 3\n",
      "4 &&& 5\n",
      "4 &&& 5\n",
      "4 &&& 5\n"
     ]
    }
   ],
   "source": [
    "a = \" *** \"\n",
    "b = \" &&& \"\n",
    "for i in range(5):\n",
    "    if i < 2:\n",
    "        print(1,2,3,sep=a, end=\"\\n\")\n",
    "    else:\n",
    "        print(4,5,sep=b, end=\"\\n\")"
   ]
  },
  {
   "cell_type": "markdown",
   "metadata": {},
   "source": [
    "## Taking user input"
   ]
  },
  {
   "cell_type": "code",
   "execution_count": 6,
   "metadata": {
    "ExecuteTime": {
     "end_time": "2018-06-08T05:17:16.462993Z",
     "start_time": "2018-06-08T05:17:07.835593Z"
    }
   },
   "outputs": [
    {
     "name": "stdout",
     "output_type": "stream",
     "text": [
      "Enter anything: anything\n",
      "<class 'str'>\n",
      "Enter any number: 5\n",
      "<class 'str'>\n",
      "By default input is string.\n",
      "It requires type casting to convert string into integer\n",
      "\n"
     ]
    }
   ],
   "source": [
    "a  = input(\"Enter anything: \")\n",
    "print(type(a))\n",
    "b = input(\"Enter any number: \")\n",
    "print(type(b))\n",
    "print(\"By default input is string.\\nIt requires type casting to convert string into integer\\n\")"
   ]
  },
  {
   "cell_type": "markdown",
   "metadata": {},
   "source": [
    "### Typecasting while taking input into integer"
   ]
  },
  {
   "cell_type": "code",
   "execution_count": 7,
   "metadata": {
    "ExecuteTime": {
     "end_time": "2018-06-08T05:17:19.237211Z",
     "start_time": "2018-06-08T05:17:16.465992Z"
    }
   },
   "outputs": [
    {
     "name": "stdout",
     "output_type": "stream",
     "text": [
      "Enter any integer: 5\n",
      "<class 'int'>\n"
     ]
    }
   ],
   "source": [
    "a = int(input(\"Enter any integer: \"))\n",
    "print(type(a))"
   ]
  },
  {
   "cell_type": "markdown",
   "metadata": {},
   "source": [
    "#### *Note: The strings only containing the numerical values can be typecasted into other number format like float or integer. <a class=\"tocSkip\">"
   ]
  },
  {
   "cell_type": "markdown",
   "metadata": {},
   "source": [
    "### Exercise\n",
    "#### Print anything <a class=\"tocSkip\">"
   ]
  },
  {
   "cell_type": "code",
   "execution_count": 8,
   "metadata": {
    "ExecuteTime": {
     "end_time": "2018-06-08T05:17:19.246206Z",
     "start_time": "2018-06-08T05:17:19.240210Z"
    }
   },
   "outputs": [
    {
     "name": "stdout",
     "output_type": "stream",
     "text": [
      "Its Showing! :)\n"
     ]
    }
   ],
   "source": [
    "print(\"Its Showing! :)\")"
   ]
  },
  {
   "cell_type": "markdown",
   "metadata": {},
   "source": [
    "#### Join two strings using '+' <a class=\"tocSkip\">\n",
    "E.g.: \"First\" + \"name\""
   ]
  },
  {
   "cell_type": "code",
   "execution_count": 9,
   "metadata": {
    "ExecuteTime": {
     "end_time": "2018-06-08T05:17:19.400282Z",
     "start_time": "2018-06-08T05:17:19.250205Z"
    }
   },
   "outputs": [
    {
     "name": "stdout",
     "output_type": "stream",
     "text": [
      "Swetank+Subham\n"
     ]
    }
   ],
   "source": [
    "print(\"Swetank\",\"Subham\",sep=\"+\")"
   ]
  },
  {
   "cell_type": "markdown",
   "metadata": {},
   "source": [
    "#### Take the input of three variables x, y, z. Print their values on screen <a class=\"tocSkip\">"
   ]
  },
  {
   "cell_type": "code",
   "execution_count": 10,
   "metadata": {
    "ExecuteTime": {
     "end_time": "2018-06-08T05:17:28.226436Z",
     "start_time": "2018-06-08T05:17:19.403279Z"
    }
   },
   "outputs": [
    {
     "name": "stdout",
     "output_type": "stream",
     "text": [
      "Enter three space separated value: 4 3 5\n",
      "a is 4\n",
      "b is 3\n",
      "c is 5\n"
     ]
    }
   ],
   "source": [
    "a, b, c = input(\"Enter three space separated value: \").split(' ')\n",
    "print('a is {}\\nb is {}\\nc is {}'.format(a, b, c))"
   ]
  },
  {
   "cell_type": "markdown",
   "metadata": {},
   "source": [
    "#### Print \"Let's get started\"  on screen <a class=\"tocSkip\">"
   ]
  },
  {
   "cell_type": "code",
   "execution_count": 11,
   "metadata": {
    "ExecuteTime": {
     "end_time": "2018-06-08T05:17:28.236430Z",
     "start_time": "2018-06-08T05:17:28.230434Z"
    }
   },
   "outputs": [
    {
     "name": "stdout",
     "output_type": "stream",
     "text": [
      "let's get started\n",
      "let's get started\n"
     ]
    }
   ],
   "source": [
    "print(\"let's get started\")\n",
    "print('let\\'s get started')"
   ]
  },
  {
   "cell_type": "markdown",
   "metadata": {},
   "source": [
    "#### Print the following value using placeholders. <a class=\"tocSkip\">\n",
    "    s = \"Acadview\"\n",
    "    course = \"Python\"\n",
    "    fees = 5000"
   ]
  },
  {
   "cell_type": "code",
   "execution_count": 12,
   "metadata": {
    "ExecuteTime": {
     "end_time": "2018-06-08T05:17:28.373616Z",
     "start_time": "2018-06-08T05:17:28.239430Z"
    }
   },
   "outputs": [
    {
     "name": "stdout",
     "output_type": "stream",
     "text": [
      "It am getting trained from Acadview on Python. The fee is INR 5000/-\n"
     ]
    }
   ],
   "source": [
    "s = \"Acadview\"\n",
    "course = \"Python\"\n",
    "fees = 5000\n",
    "print(\"It am getting trained from {} on {}. The fee is INR {}/-\".format(s, course,fees))"
   ]
  },
  {
   "cell_type": "markdown",
   "metadata": {},
   "source": [
    "#### Let's do some interesting exercise: <a class=\"tocSkip\">\n",
    "    name = \"Tony Stark\"\n",
    "    salary = 1000000\n",
    "    print('%s''%d')%(____,____)"
   ]
  },
  {
   "cell_type": "code",
   "execution_count": 13,
   "metadata": {
    "ExecuteTime": {
     "end_time": "2018-06-08T05:17:28.482678Z",
     "start_time": "2018-06-08T05:17:28.377612Z"
    }
   },
   "outputs": [
    {
     "name": "stdout",
     "output_type": "stream",
     "text": [
      "Tony Stark 1000000\n",
      "Tony Stark 1000000\n",
      "%s %d Tony Stark 1000000\n"
     ]
    }
   ],
   "source": [
    "name = \"Tony Stark\"\n",
    "salary = 1000000\n",
    "print(('%s %d')%(name, salary))\n",
    "print('{} {}'.format(name, salary))\n",
    "print('%s %d', name, salary)"
   ]
  },
  {
   "cell_type": "markdown",
   "metadata": {},
   "source": [
    "# DAY 3\n",
    "---"
   ]
  },
  {
   "cell_type": "markdown",
   "metadata": {},
   "source": [
    "## Data Types in Python\n",
    "__Numeric, String, List, Tuple, Dictionary, set etc.__"
   ]
  },
  {
   "cell_type": "markdown",
   "metadata": {},
   "source": [
    "### Numeric"
   ]
  },
  {
   "cell_type": "code",
   "execution_count": 14,
   "metadata": {
    "ExecuteTime": {
     "end_time": "2018-06-08T05:17:28.654255Z",
     "start_time": "2018-06-08T05:17:28.485664Z"
    }
   },
   "outputs": [
    {
     "name": "stdout",
     "output_type": "stream",
     "text": [
      "Type of x (10) is <class 'int'>.\n",
      "Type of y (9.5) is <class 'float'>.\n",
      "Type of z ((5+3j)) is <class 'complex'>.\n",
      "some text\n",
      "Type of print('something') is <class 'NoneType'>.\n"
     ]
    }
   ],
   "source": [
    "x = 10\n",
    "print('Type of x ({}) is {}.'.format(x, type(x)))\n",
    "y = 9.5\n",
    "print('Type of y ({}) is {}.'.format(y, type(y)))\n",
    "z = 5+3j\n",
    "print('Type of z ({}) is {}.'.format(z, type(z)))\n",
    "print('Type of print(\\'something\\') is {}.'.format(type(print('some text'))))"
   ]
  },
  {
   "cell_type": "markdown",
   "metadata": {},
   "source": [
    "#### Program to find area of circle using user input of radius measure <a class=\"tocSkip\">"
   ]
  },
  {
   "cell_type": "code",
   "execution_count": 15,
   "metadata": {
    "ExecuteTime": {
     "end_time": "2018-06-08T05:17:31.715012Z",
     "start_time": "2018-06-08T05:17:28.665247Z"
    }
   },
   "outputs": [
    {
     "name": "stdout",
     "output_type": "stream",
     "text": [
      "Enter radius of circle: 4\n",
      "50.26548245743669\n"
     ]
    }
   ],
   "source": [
    "import math\n",
    "r = float(input('Enter radius of circle: '))\n",
    "print(math.pi * r ** 2)"
   ]
  },
  {
   "cell_type": "markdown",
   "metadata": {},
   "source": [
    "### String"
   ]
  },
  {
   "cell_type": "code",
   "execution_count": 16,
   "metadata": {
    "ExecuteTime": {
     "end_time": "2018-06-08T05:17:31.727004Z",
     "start_time": "2018-06-08T05:17:31.719010Z"
    }
   },
   "outputs": [
    {
     "name": "stdout",
     "output_type": "stream",
     "text": [
      "Type of x (Sequence of characters) is <class 'str'>.\n",
      "Type of y ( is called string) is <class 'str'>.\n",
      "Sequence of characters is called string\n",
      "Type of z (5) is <class 'int'>.\n",
      "Sequence of characters is called string\n",
      "5\n",
      "SEQUENCE OF CHARACTERS\n",
      "sequence of characters\n",
      "Sequence of characters\n",
      "False\n",
      "False\n",
      "False\n",
      "False\n"
     ]
    }
   ],
   "source": [
    "x = 'Sequence of characters'\n",
    "print('Type of x ({}) is {}.'.format(x, type(x)))\n",
    "y = ' is called string'\n",
    "print('Type of y ({}) is {}.'.format(y, type(y)))\n",
    "print(x + y)\n",
    "z = 5\n",
    "print('Type of z ({}) is {}.'.format(z, type(z)))\n",
    "print(x + y + '\\n' + str(z))\n",
    "print(x.upper())\n",
    "print(x.lower())\n",
    "print(x.capitalize())\n",
    "print(x.isalpha())\n",
    "print(x.isalnum())\n",
    "print(x.isnumeric())\n",
    "print(x.isspace())"
   ]
  },
  {
   "cell_type": "markdown",
   "metadata": {},
   "source": [
    "#### Take two reference variables and store your name and age and print: <a class=\"tocSkip\">\n",
    "I am name and my age is age yrs."
   ]
  },
  {
   "cell_type": "code",
   "execution_count": 17,
   "metadata": {
    "ExecuteTime": {
     "end_time": "2018-06-08T05:17:31.859867Z",
     "start_time": "2018-06-08T05:17:31.731004Z"
    }
   },
   "outputs": [
    {
     "name": "stdout",
     "output_type": "stream",
     "text": [
      "I am Swetank Subham and my age is 22 yrs.\n"
     ]
    }
   ],
   "source": [
    "age = 22\n",
    "name = 'Swetank Subham'\n",
    "s = 'I am {} and my age is {} yrs.'.format(name, age)\n",
    "print(s)"
   ]
  },
  {
   "cell_type": "markdown",
   "metadata": {},
   "source": [
    "### Some more string manipulation functions <a class=\"tocSkip\">"
   ]
  },
  {
   "cell_type": "code",
   "execution_count": 18,
   "metadata": {
    "ExecuteTime": {
     "end_time": "2018-06-08T05:17:32.001191Z",
     "start_time": "2018-06-08T05:17:31.864862Z"
    }
   },
   "outputs": [
    {
     "name": "stdout",
     "output_type": "stream",
     "text": [
      "True\n",
      "False\n"
     ]
    }
   ],
   "source": [
    "print(s.startswith('I'))\n",
    "print(s.startswith('i'))"
   ]
  },
  {
   "cell_type": "code",
   "execution_count": 19,
   "metadata": {
    "ExecuteTime": {
     "end_time": "2018-06-08T05:17:32.145639Z",
     "start_time": "2018-06-08T05:17:32.005188Z"
    }
   },
   "outputs": [
    {
     "name": "stdout",
     "output_type": "stream",
     "text": [
      "I am TheRoy and my age is 22 yrs.\n"
     ]
    }
   ],
   "source": [
    "print(s.replace('Swetank Subham', 'TheRoy'))"
   ]
  },
  {
   "cell_type": "code",
   "execution_count": 20,
   "metadata": {
    "ExecuteTime": {
     "end_time": "2018-06-08T05:17:32.281723Z",
     "start_time": "2018-06-08T05:17:32.151635Z"
    }
   },
   "outputs": [
    {
     "name": "stdout",
     "output_type": "stream",
     "text": [
      "['I', 'am', 'Swetank', 'Subham', 'and', 'my', 'age', 'is', '22', 'yrs.']\n"
     ]
    }
   ],
   "source": [
    "print(s.split(' '))"
   ]
  },
  {
   "cell_type": "code",
   "execution_count": 21,
   "metadata": {
    "ExecuteTime": {
     "end_time": "2018-06-08T05:17:32.430022Z",
     "start_time": "2018-06-08T05:17:32.286703Z"
    }
   },
   "outputs": [
    {
     "name": "stdout",
     "output_type": "stream",
     "text": [
      "m Swetank Subham and my age is 22 yrs.\n"
     ]
    }
   ],
   "source": [
    "print(s[3:])"
   ]
  },
  {
   "cell_type": "code",
   "execution_count": 22,
   "metadata": {
    "ExecuteTime": {
     "end_time": "2018-06-08T05:17:32.603306Z",
     "start_time": "2018-06-08T05:17:32.439018Z"
    }
   },
   "outputs": [
    {
     "name": "stdout",
     "output_type": "stream",
     "text": [
      ".\n",
      "s.\n",
      "sry 22 si ega ym dna mahbuS knatewS ma I\n"
     ]
    }
   ],
   "source": [
    "print(s[-1])\n",
    "print(s[-2:])\n",
    "print(s[-2::-1])"
   ]
  },
  {
   "cell_type": "code",
   "execution_count": 23,
   "metadata": {
    "ExecuteTime": {
     "end_time": "2018-06-08T05:17:32.743841Z",
     "start_time": "2018-06-08T05:17:32.608300Z"
    }
   },
   "outputs": [
    {
     "name": "stdout",
     "output_type": "stream",
     "text": [
      ".sry 22 si ega ym dna mahbuS knatewS ma I\n",
      ".sry 22 si ega ym dna mahbuS knatewS ma I\n"
     ]
    }
   ],
   "source": [
    "print(s[::-1])\n",
    "print(''.join(reversed(s)))"
   ]
  },
  {
   "cell_type": "markdown",
   "metadata": {},
   "source": [
    "### List"
   ]
  },
  {
   "cell_type": "code",
   "execution_count": 24,
   "metadata": {
    "ExecuteTime": {
     "end_time": "2018-06-08T05:24:26.699408Z",
     "start_time": "2018-06-08T05:24:26.684419Z"
    }
   },
   "outputs": [
    {
     "name": "stdout",
     "output_type": "stream",
     "text": [
      "Type of list1 ([]) is <class 'list'>.\n",
      "Type of list2 ([]) is <class 'list'>.\n",
      "Type of l1 ([1, 2, 3, 4, 5]) is <class 'list'>.\n",
      "Type of l2 ([3, 4, 5]) is <class 'list'>.\n"
     ]
    }
   ],
   "source": [
    "list1 = []\n",
    "list2 = list()\n",
    "print('Type of list1 ({}) is {}.'.format(list1, type(list1)))\n",
    "print('Type of list2 ({}) is {}.'.format(list2, type(list2)))\n",
    "l1 = [1, 2, 3, 4, 5]\n",
    "print('Type of l1 ({}) is {}.'.format(l1, type(l1)))\n",
    "l2 = [3, 4, 5]\n",
    "print('Type of l2 ({}) is {}.'.format(l2, type(l2)))"
   ]
  },
  {
   "cell_type": "code",
   "execution_count": 25,
   "metadata": {
    "ExecuteTime": {
     "end_time": "2018-06-08T05:24:47.149535Z",
     "start_time": "2018-06-08T05:24:47.118563Z"
    }
   },
   "outputs": [
    {
     "data": {
      "text/plain": [
       "False"
      ]
     },
     "execution_count": 25,
     "metadata": {},
     "output_type": "execute_result"
    }
   ],
   "source": [
    "l1 == l2"
   ]
  },
  {
   "cell_type": "code",
   "execution_count": 30,
   "metadata": {
    "ExecuteTime": {
     "end_time": "2018-06-08T05:28:47.976566Z",
     "start_time": "2018-06-08T05:28:47.964571Z"
    }
   },
   "outputs": [
    {
     "name": "stdout",
     "output_type": "stream",
     "text": [
      "['Roy', 'Amit', 'Aadi', 'Mohit', 'Ankur']\n",
      "['Roy', 'Amit', 'Aaditya', 'Mohit', 'Ankur']\n",
      "['Roy', 'Amit', 'Aaditya', 'Mohit', 'Ankur', 'Trisha']\n"
     ]
    }
   ],
   "source": [
    "students = ['Roy', 'Amit', 'Aadi', 'Mohit', 'Ankur']\n",
    "print(students)\n",
    "students[2] = 'Aaditya'\n",
    "print(students)\n",
    "students.append('Trisha')\n",
    "print(students)"
   ]
  },
  {
   "cell_type": "code",
   "execution_count": 37,
   "metadata": {
    "ExecuteTime": {
     "end_time": "2018-06-08T05:41:35.943470Z",
     "start_time": "2018-06-08T05:41:28.721500Z"
    }
   },
   "outputs": [
    {
     "name": "stdout",
     "output_type": "stream",
     "text": [
      "4 5 8 6 74\n"
     ]
    },
    {
     "data": {
      "text/plain": [
       "[4, 5, 8, 6, 74]"
      ]
     },
     "execution_count": 37,
     "metadata": {},
     "output_type": "execute_result"
    }
   ],
   "source": [
    "list3 = list(map(int, input().split(' ')))\n",
    "list3"
   ]
  },
  {
   "cell_type": "code",
   "execution_count": 42,
   "metadata": {
    "ExecuteTime": {
     "end_time": "2018-06-08T05:44:15.999281Z",
     "start_time": "2018-06-08T05:44:15.985296Z"
    }
   },
   "outputs": [
    {
     "data": {
      "text/plain": [
       "0"
      ]
     },
     "execution_count": 42,
     "metadata": {},
     "output_type": "execute_result"
    }
   ],
   "source": [
    "students.index('Roy')"
   ]
  },
  {
   "cell_type": "code",
   "execution_count": 39,
   "metadata": {
    "ExecuteTime": {
     "end_time": "2018-06-08T05:43:18.798821Z",
     "start_time": "2018-06-08T05:43:18.784829Z"
    }
   },
   "outputs": [
    {
     "data": {
      "text/plain": [
       "['Rohan', 'Abhay', 'Dhruv']"
      ]
     },
     "execution_count": 39,
     "metadata": {},
     "output_type": "execute_result"
    }
   ],
   "source": [
    "students2 = ['Rohan', 'Abhay', 'Dhruv']\n",
    "students2"
   ]
  },
  {
   "cell_type": "code",
   "execution_count": 40,
   "metadata": {
    "ExecuteTime": {
     "end_time": "2018-06-08T05:43:35.565405Z",
     "start_time": "2018-06-08T05:43:35.552406Z"
    }
   },
   "outputs": [
    {
     "data": {
      "text/plain": [
       "['Roy',\n",
       " 'Amit',\n",
       " 'Aaditya',\n",
       " 'Mohit',\n",
       " 'Ankur',\n",
       " 'Trisha',\n",
       " 'Rohan',\n",
       " 'Abhay',\n",
       " 'Dhruv']"
      ]
     },
     "execution_count": 40,
     "metadata": {},
     "output_type": "execute_result"
    }
   ],
   "source": [
    "students + students2"
   ]
  },
  {
   "cell_type": "markdown",
   "metadata": {},
   "source": [
    "create a list with user defined inputs\n",
    "Add the following list to above created list \\['google', 'apple', 'facebook', 'microsoft', 'tesla'\\]\n",
    "Count the number of times an object occurs in a list\n",
    "create a list with numbers and sort it in ascending order\n",
    "given are two one-dimensional arrays A and B which are sorted in ascending order. write a program to merge them into a single sorted array C\n",
    "Implement a stack and queue using lists"
   ]
  },
  {
   "cell_type": "code",
   "execution_count": 43,
   "metadata": {
    "ExecuteTime": {
     "end_time": "2018-06-08T05:52:24.643665Z",
     "start_time": "2018-06-08T05:52:01.908770Z"
    }
   },
   "outputs": [
    {
     "name": "stdout",
     "output_type": "stream",
     "text": [
      "HackerEarth HackerRank, Intel\n"
     ]
    },
    {
     "data": {
      "text/plain": [
       "['HackerEarth', 'HackerRank,', 'Intel']"
      ]
     },
     "execution_count": 43,
     "metadata": {},
     "output_type": "execute_result"
    }
   ],
   "source": [
    "t1 = list(map(str, input().split(' ')))\n",
    "t1"
   ]
  },
  {
   "cell_type": "code",
   "execution_count": 44,
   "metadata": {
    "ExecuteTime": {
     "end_time": "2018-06-08T05:52:30.711689Z",
     "start_time": "2018-06-08T05:52:30.700699Z"
    }
   },
   "outputs": [
    {
     "name": "stdout",
     "output_type": "stream",
     "text": [
      "['HackerEarth', 'HackerRank,', 'Intel', 'google', 'apple', 'facebook', 'microsoft', 'tesla']\n"
     ]
    }
   ],
   "source": [
    "t2 = ['google', 'apple', 'facebook', 'microsoft', 'tesla']\n",
    "print(t1 + t2)"
   ]
  },
  {
   "cell_type": "code",
   "execution_count": 62,
   "metadata": {
    "ExecuteTime": {
     "end_time": "2018-06-08T06:06:36.226349Z",
     "start_time": "2018-06-08T06:06:36.212364Z"
    }
   },
   "outputs": [
    {
     "data": {
      "text/plain": [
       "1"
      ]
     },
     "execution_count": 62,
     "metadata": {},
     "output_type": "execute_result"
    }
   ],
   "source": [
    "t2.count('apple')"
   ]
  },
  {
   "cell_type": "code",
   "execution_count": 45,
   "metadata": {
    "ExecuteTime": {
     "end_time": "2018-06-08T05:53:49.225594Z",
     "start_time": "2018-06-08T05:53:49.211610Z"
    }
   },
   "outputs": [
    {
     "data": {
      "text/plain": [
       "[22, 34, 57, 65, 289]"
      ]
     },
     "execution_count": 45,
     "metadata": {},
     "output_type": "execute_result"
    }
   ],
   "source": [
    "a = sorted([65, 34, 22, 289, 57])\n",
    "a"
   ]
  },
  {
   "cell_type": "code",
   "execution_count": 46,
   "metadata": {
    "ExecuteTime": {
     "end_time": "2018-06-08T05:55:05.297953Z",
     "start_time": "2018-06-08T05:55:05.289974Z"
    }
   },
   "outputs": [
    {
     "data": {
      "text/plain": [
       "[1, 2, 3, 4, 5, 6, 7, 8, 9]"
      ]
     },
     "execution_count": 46,
     "metadata": {},
     "output_type": "execute_result"
    }
   ],
   "source": [
    "A = [1, 2, 3, 4, 5]\n",
    "B = [6, 7, 8, 9]\n",
    "C = sorted(A + B)\n",
    "C"
   ]
  },
  {
   "cell_type": "code",
   "execution_count": 54,
   "metadata": {
    "ExecuteTime": {
     "end_time": "2018-06-08T05:58:21.419675Z",
     "start_time": "2018-06-08T05:58:21.408677Z"
    }
   },
   "outputs": [
    {
     "name": "stdout",
     "output_type": "stream",
     "text": [
      "['HackerEarth', 'HackerRank,', 'Intel', 'Amazon', 'Directi']\n"
     ]
    }
   ],
   "source": [
    "t1.append('Directi')\n",
    "print(t1)"
   ]
  },
  {
   "cell_type": "code",
   "execution_count": 53,
   "metadata": {
    "ExecuteTime": {
     "end_time": "2018-06-08T05:58:15.497731Z",
     "start_time": "2018-06-08T05:58:15.488731Z"
    }
   },
   "outputs": [
    {
     "name": "stdout",
     "output_type": "stream",
     "text": [
      "['HackerEarth', 'HackerRank,', 'Intel', 'Amazon']\n"
     ]
    }
   ],
   "source": [
    "t1.pop()\n",
    "print(t1)"
   ]
  },
  {
   "cell_type": "code",
   "execution_count": 64,
   "metadata": {
    "ExecuteTime": {
     "end_time": "2018-06-08T06:07:15.113038Z",
     "start_time": "2018-06-08T06:07:15.101052Z"
    }
   },
   "outputs": [
    {
     "name": "stdout",
     "output_type": "stream",
     "text": [
      "deque(['HackerEarth', 'HackerRank,', 'Intel', 'Amazon', 'Directi'])\n"
     ]
    },
    {
     "data": {
      "text/plain": [
       "deque(['HackerRank,', 'Intel', 'Amazon', 'Directi'])"
      ]
     },
     "execution_count": 64,
     "metadata": {},
     "output_type": "execute_result"
    }
   ],
   "source": [
    "from collections import deque\n",
    "listasdeque = deque(t1)\n",
    "print(listasdeque)\n",
    "listasdeque.popleft()\n",
    "listasdeque"
   ]
  },
  {
   "cell_type": "markdown",
   "metadata": {},
   "source": [
    "### Tuple"
   ]
  },
  {
   "cell_type": "code",
   "execution_count": 66,
   "metadata": {
    "ExecuteTime": {
     "end_time": "2018-06-08T06:14:49.428230Z",
     "start_time": "2018-06-08T06:14:49.415243Z"
    }
   },
   "outputs": [
    {
     "name": "stdout",
     "output_type": "stream",
     "text": [
      "<class 'tuple'>\n",
      "<class 'tuple'>\n"
     ]
    }
   ],
   "source": [
    "tup = (1, 2, 3, 4, 5)\n",
    "print(type(tup))\n",
    "tup2 = ()\n",
    "print(type(tup2))"
   ]
  },
  {
   "cell_type": "code",
   "execution_count": 67,
   "metadata": {
    "ExecuteTime": {
     "end_time": "2018-06-08T06:21:05.939786Z",
     "start_time": "2018-06-08T06:21:05.934788Z"
    }
   },
   "outputs": [],
   "source": [
    "del(tup2)"
   ]
  },
  {
   "cell_type": "code",
   "execution_count": 68,
   "metadata": {
    "ExecuteTime": {
     "end_time": "2018-06-08T06:21:12.580607Z",
     "start_time": "2018-06-08T06:21:12.554649Z"
    }
   },
   "outputs": [
    {
     "ename": "NameError",
     "evalue": "name 'tup2' is not defined",
     "output_type": "error",
     "traceback": [
      "\u001b[1;31m---------------------------------------------------------------------------\u001b[0m",
      "\u001b[1;31mNameError\u001b[0m                                 Traceback (most recent call last)",
      "\u001b[1;32m<ipython-input-68-9d6435f7c59b>\u001b[0m in \u001b[0;36m<module>\u001b[1;34m()\u001b[0m\n\u001b[1;32m----> 1\u001b[1;33m \u001b[0mtup2\u001b[0m\u001b[1;33m\u001b[0m\u001b[0m\n\u001b[0m",
      "\u001b[1;31mNameError\u001b[0m: name 'tup2' is not defined"
     ]
    }
   ],
   "source": [
    "tup2"
   ]
  },
  {
   "cell_type": "code",
   "execution_count": 71,
   "metadata": {
    "ExecuteTime": {
     "end_time": "2018-06-08T06:21:47.370952Z",
     "start_time": "2018-06-08T06:21:47.357957Z"
    }
   },
   "outputs": [
    {
     "data": {
      "text/plain": [
       "(2,)"
      ]
     },
     "execution_count": 71,
     "metadata": {},
     "output_type": "execute_result"
    }
   ],
   "source": [
    "tup[1:2]"
   ]
  },
  {
   "cell_type": "code",
   "execution_count": 72,
   "metadata": {
    "ExecuteTime": {
     "end_time": "2018-06-08T06:22:47.066861Z",
     "start_time": "2018-06-08T06:22:47.057848Z"
    }
   },
   "outputs": [
    {
     "name": "stdout",
     "output_type": "stream",
     "text": [
      "<class 'int'>\n",
      "<class 'tuple'>\n"
     ]
    }
   ],
   "source": [
    "tup2 = (3)\n",
    "print(type(tup2))\n",
    "tup2 = (3,)\n",
    "print(type(tup2))"
   ]
  },
  {
   "cell_type": "code",
   "execution_count": 81,
   "metadata": {
    "ExecuteTime": {
     "end_time": "2018-06-08T06:26:51.520999Z",
     "start_time": "2018-06-08T06:26:51.514004Z"
    }
   },
   "outputs": [
    {
     "data": {
      "text/plain": [
       "('Roy', 'Roy', 'Roy', 'Roy', 'Roy')"
      ]
     },
     "execution_count": 81,
     "metadata": {},
     "output_type": "execute_result"
    }
   ],
   "source": [
    "tup3 = ('Roy',) * 5\n",
    "tup3"
   ]
  },
  {
   "cell_type": "code",
   "execution_count": 84,
   "metadata": {
    "ExecuteTime": {
     "end_time": "2018-06-08T06:31:09.448376Z",
     "start_time": "2018-06-08T06:31:09.434385Z"
    }
   },
   "outputs": [
    {
     "data": {
      "text/plain": [
       "((1, 2, 3, 4, 5), ('Roy', 'Roy', 'Roy', 'Roy', 'Roy'))"
      ]
     },
     "execution_count": 84,
     "metadata": {},
     "output_type": "execute_result"
    }
   ],
   "source": [
    "tup4 = (tup, tup3)\n",
    "tup4"
   ]
  },
  {
   "cell_type": "markdown",
   "metadata": {},
   "source": [
    "1. Write a program to create a tuple with different data types and do the following oprations:<br>\n",
    "  1.1 find the lenth of tuple\n",
    "2. Find the largest and smallest elements of a tuple\n",
    "3. Write a program to find the product af all elements in a tuple"
   ]
  },
  {
   "cell_type": "code",
   "execution_count": 87,
   "metadata": {
    "ExecuteTime": {
     "end_time": "2018-06-08T06:36:33.155970Z",
     "start_time": "2018-06-08T06:36:33.145977Z"
    }
   },
   "outputs": [
    {
     "name": "stdout",
     "output_type": "stream",
     "text": [
      "(1, 8, 9, 'Roy', 'Toy')\n"
     ]
    },
    {
     "data": {
      "text/plain": [
       "5"
      ]
     },
     "execution_count": 87,
     "metadata": {},
     "output_type": "execute_result"
    }
   ],
   "source": [
    "tup5 = (1, 8, 9, 'Roy', 'Toy')\n",
    "print(tup5)\n",
    "len(tup5)"
   ]
  },
  {
   "cell_type": "code",
   "execution_count": 90,
   "metadata": {
    "ExecuteTime": {
     "end_time": "2018-06-08T06:37:54.846914Z",
     "start_time": "2018-06-08T06:37:54.840922Z"
    }
   },
   "outputs": [
    {
     "name": "stdout",
     "output_type": "stream",
     "text": [
      "(5, 2, 8, 9)\n",
      "9\n",
      "2\n"
     ]
    }
   ],
   "source": [
    "tup6 = (5, 2, 8, 9)\n",
    "print(tup6)\n",
    "print(max(tup6))\n",
    "print(min(tup6))"
   ]
  },
  {
   "cell_type": "code",
   "execution_count": 95,
   "metadata": {
    "ExecuteTime": {
     "end_time": "2018-06-08T06:48:07.334654Z",
     "start_time": "2018-06-08T06:48:07.326659Z"
    }
   },
   "outputs": [
    {
     "name": "stdout",
     "output_type": "stream",
     "text": [
      "720\n"
     ]
    }
   ],
   "source": [
    "import numpy as n\n",
    "print(n.prod(tup6))"
   ]
  },
  {
   "cell_type": "code",
   "execution_count": null,
   "metadata": {
    "ExecuteTime": {
     "end_time": "2018-06-08T06:49:44.302003Z",
     "start_time": "2018-06-08T06:49:44.268013Z"
    }
   },
   "outputs": [],
   "source": []
  },
  {
   "cell_type": "markdown",
   "metadata": {},
   "source": [
    "### Set"
   ]
  },
  {
   "cell_type": "code",
   "execution_count": 112,
   "metadata": {
    "ExecuteTime": {
     "end_time": "2018-06-08T06:57:33.790455Z",
     "start_time": "2018-06-08T06:57:33.775489Z"
    }
   },
   "outputs": [
    {
     "data": {
      "text/plain": [
       "{'apple'}"
      ]
     },
     "execution_count": 112,
     "metadata": {},
     "output_type": "execute_result"
    }
   ],
   "source": [
    "a = set()\n",
    "a.add('apple')\n",
    "a"
   ]
  },
  {
   "cell_type": "code",
   "execution_count": 113,
   "metadata": {
    "ExecuteTime": {
     "end_time": "2018-06-08T06:57:35.149806Z",
     "start_time": "2018-06-08T06:57:35.136809Z"
    }
   },
   "outputs": [
    {
     "data": {
      "text/plain": [
       "{'apple', 'mango'}"
      ]
     },
     "execution_count": 113,
     "metadata": {},
     "output_type": "execute_result"
    }
   ],
   "source": [
    "a.add('mango')\n",
    "a"
   ]
  },
  {
   "cell_type": "code",
   "execution_count": 114,
   "metadata": {
    "ExecuteTime": {
     "end_time": "2018-06-08T06:57:35.682944Z",
     "start_time": "2018-06-08T06:57:35.668949Z"
    }
   },
   "outputs": [
    {
     "data": {
      "text/plain": [
       "{'apple', 'grapes', 'mango'}"
      ]
     },
     "execution_count": 114,
     "metadata": {},
     "output_type": "execute_result"
    }
   ],
   "source": [
    "a.update(['mango', 'grapes'])\n",
    "a"
   ]
  },
  {
   "cell_type": "code",
   "execution_count": 117,
   "metadata": {
    "ExecuteTime": {
     "end_time": "2018-06-08T06:58:03.052384Z",
     "start_time": "2018-06-08T06:58:03.045385Z"
    }
   },
   "outputs": [
    {
     "data": {
      "text/plain": [
       "{'apple', 'grapes', 'mango'}"
      ]
     },
     "execution_count": 117,
     "metadata": {},
     "output_type": "execute_result"
    }
   ],
   "source": [
    "a.add('mango')\n",
    "a"
   ]
  },
  {
   "cell_type": "code",
   "execution_count": null,
   "metadata": {
    "ExecuteTime": {
     "end_time": "2018-06-08T06:58:04.667920Z",
     "start_time": "2018-06-08T06:58:04.659924Z"
    }
   },
   "outputs": [],
   "source": [
    "a.remove('mango')\n",
    "a"
   ]
  },
  {
   "cell_type": "markdown",
   "metadata": {},
   "source": [
    "# DAY 4"
   ]
  },
  {
   "cell_type": "markdown",
   "metadata": {},
   "source": [
    "## Data Types in Python Continue...\n",
    "__Numeric, String, List, Tuple, Dictionary, set etc.__"
   ]
  },
  {
   "cell_type": "markdown",
   "metadata": {},
   "source": [
    "### Dictionaries\n",
    "Definition:<br>\n",
    "d = {'key': 'value'}"
   ]
  },
  {
   "cell_type": "code",
   "execution_count": 10,
   "metadata": {
    "ExecuteTime": {
     "end_time": "2018-06-11T04:21:36.631028Z",
     "start_time": "2018-06-11T04:21:36.625032Z"
    }
   },
   "outputs": [
    {
     "name": "stdout",
     "output_type": "stream",
     "text": [
      "{'fname': 'Swetank', 'lname': 'Subham'} <class 'dict'>\n",
      "I am Swetank Subham.\n"
     ]
    }
   ],
   "source": [
    "d = {'fname': 'Swetank', 'lname': 'Subham'}\n",
    "print(d, type(d))\n",
    "print('I am {} {}.'.format(d['fname'], d['lname']))"
   ]
  },
  {
   "cell_type": "markdown",
   "metadata": {},
   "source": [
    "### Updation<a class=\"tocSkip\">"
   ]
  },
  {
   "cell_type": "code",
   "execution_count": 11,
   "metadata": {
    "ExecuteTime": {
     "end_time": "2018-06-11T04:21:38.803710Z",
     "start_time": "2018-06-11T04:21:38.796713Z"
    }
   },
   "outputs": [
    {
     "name": "stdout",
     "output_type": "stream",
     "text": [
      "I am Jonty Rhodes.\n"
     ]
    }
   ],
   "source": [
    "d['fname'] = 'Jonty'\n",
    "d['lname'] = 'Rhodes'\n",
    "print('I am {} {}.'.format(d['fname'], d['lname']))"
   ]
  },
  {
   "cell_type": "markdown",
   "metadata": {},
   "source": [
    "### Deletion <a class=\"tocSkip\">"
   ]
  },
  {
   "cell_type": "code",
   "execution_count": 12,
   "metadata": {
    "ExecuteTime": {
     "end_time": "2018-06-11T04:21:41.448457Z",
     "start_time": "2018-06-11T04:21:41.434466Z"
    }
   },
   "outputs": [
    {
     "ename": "NameError",
     "evalue": "name 'lname' is not defined",
     "output_type": "error",
     "traceback": [
      "\u001b[1;31m---------------------------------------------------------------------------\u001b[0m",
      "\u001b[1;31mNameError\u001b[0m                                 Traceback (most recent call last)",
      "\u001b[1;32m<ipython-input-12-38e476312147>\u001b[0m in \u001b[0;36m<module>\u001b[1;34m()\u001b[0m\n\u001b[1;32m----> 1\u001b[1;33m \u001b[1;32mdel\u001b[0m \u001b[0md\u001b[0m\u001b[1;33m[\u001b[0m\u001b[0mlname\u001b[0m\u001b[1;33m]\u001b[0m\u001b[1;33m\u001b[0m\u001b[0m\n\u001b[0m\u001b[0;32m      2\u001b[0m \u001b[0mprint\u001b[0m\u001b[1;33m(\u001b[0m\u001b[1;34m'I am {} {}.'\u001b[0m\u001b[1;33m.\u001b[0m\u001b[0mformat\u001b[0m\u001b[1;33m(\u001b[0m\u001b[0md\u001b[0m\u001b[1;33m[\u001b[0m\u001b[1;34m'fname'\u001b[0m\u001b[1;33m]\u001b[0m\u001b[1;33m,\u001b[0m \u001b[0md\u001b[0m\u001b[1;33m[\u001b[0m\u001b[1;34m'lname'\u001b[0m\u001b[1;33m]\u001b[0m\u001b[1;33m)\u001b[0m\u001b[1;33m)\u001b[0m\u001b[1;33m\u001b[0m\u001b[0m\n",
      "\u001b[1;31mNameError\u001b[0m: name 'lname' is not defined"
     ]
    }
   ],
   "source": [
    "del d[lname]\n",
    "print('I am {} {}.'.format(d['fname'], d['lname']))"
   ]
  },
  {
   "cell_type": "markdown",
   "metadata": {},
   "source": [
    "### Clear <a class=\"tocSkip\">"
   ]
  },
  {
   "cell_type": "code",
   "execution_count": 9,
   "metadata": {
    "ExecuteTime": {
     "end_time": "2018-06-11T04:21:18.660547Z",
     "start_time": "2018-06-11T04:21:18.650551Z"
    }
   },
   "outputs": [
    {
     "name": "stdout",
     "output_type": "stream",
     "text": [
      "defaultdict(<class 'str'>, {})\n"
     ]
    }
   ],
   "source": [
    "d.clear()\n",
    "print(d)"
   ]
  },
  {
   "cell_type": "code",
   "execution_count": null,
   "metadata": {},
   "outputs": [],
   "source": []
  },
  {
   "cell_type": "code",
   "execution_count": 19,
   "metadata": {
    "ExecuteTime": {
     "end_time": "2018-06-11T04:24:21.760083Z",
     "start_time": "2018-06-11T04:24:21.753094Z"
    }
   },
   "outputs": [
    {
     "name": "stdout",
     "output_type": "stream",
     "text": [
      "('The', 'Roy')\n"
     ]
    }
   ],
   "source": [
    "d = {('fname','lname'):('The','Roy')}\n",
    "print(d[('fname', 'lname')])"
   ]
  },
  {
   "cell_type": "code",
   "execution_count": null,
   "metadata": {},
   "outputs": [],
   "source": []
  },
  {
   "cell_type": "code",
   "execution_count": 15,
   "metadata": {
    "ExecuteTime": {
     "end_time": "2018-06-11T04:23:33.342460Z",
     "start_time": "2018-06-11T04:23:33.324476Z"
    }
   },
   "outputs": [
    {
     "ename": "TypeError",
     "evalue": "unhashable type: 'list'",
     "output_type": "error",
     "traceback": [
      "\u001b[1;31m---------------------------------------------------------------------------\u001b[0m",
      "\u001b[1;31mTypeError\u001b[0m                                 Traceback (most recent call last)",
      "\u001b[1;32m<ipython-input-15-257f56557f5a>\u001b[0m in \u001b[0;36m<module>\u001b[1;34m()\u001b[0m\n\u001b[1;32m----> 1\u001b[1;33m \u001b[0md2\u001b[0m \u001b[1;33m=\u001b[0m \u001b[1;33m{\u001b[0m\u001b[1;33m[\u001b[0m\u001b[1;34m'fname'\u001b[0m\u001b[1;33m,\u001b[0m\u001b[1;34m'lname'\u001b[0m\u001b[1;33m]\u001b[0m\u001b[1;33m:\u001b[0m\u001b[1;33m[\u001b[0m\u001b[1;34m'The'\u001b[0m\u001b[1;33m,\u001b[0m\u001b[1;34m'Roy'\u001b[0m\u001b[1;33m]\u001b[0m\u001b[1;33m}\u001b[0m\u001b[1;33m\u001b[0m\u001b[0m\n\u001b[0m\u001b[0;32m      2\u001b[0m \u001b[0mprint\u001b[0m\u001b[1;33m(\u001b[0m\u001b[0md2\u001b[0m\u001b[1;33m)\u001b[0m\u001b[1;33m\u001b[0m\u001b[0m\n",
      "\u001b[1;31mTypeError\u001b[0m: unhashable type: 'list'"
     ]
    }
   ],
   "source": [
    "d2 = {['fname','lname']:['The','Roy']}\n",
    "print(d2)"
   ]
  },
  {
   "cell_type": "markdown",
   "metadata": {},
   "source": [
    "## Conditionals"
   ]
  },
  {
   "cell_type": "markdown",
   "metadata": {},
   "source": [
    "### if, if-else, if-elif(n)-else"
   ]
  },
  {
   "cell_type": "code",
   "execution_count": 21,
   "metadata": {
    "ExecuteTime": {
     "end_time": "2018-06-11T04:27:52.167129Z",
     "start_time": "2018-06-11T04:27:52.160147Z"
    }
   },
   "outputs": [
    {
     "name": "stdout",
     "output_type": "stream",
     "text": [
      "10 is greater than 5\n"
     ]
    }
   ],
   "source": [
    "x = 10\n",
    "y = 5\n",
    "if x > y:\n",
    "    print('{} is greater than {}'.format(x, y))"
   ]
  },
  {
   "cell_type": "code",
   "execution_count": 29,
   "metadata": {
    "ExecuteTime": {
     "end_time": "2018-06-11T04:33:20.583954Z",
     "start_time": "2018-06-11T04:33:20.572958Z"
    }
   },
   "outputs": [
    {
     "name": "stdout",
     "output_type": "stream",
     "text": [
      "10 is greater than 5\n"
     ]
    }
   ],
   "source": [
    "x = 5\n",
    "y = 10\n",
    "if x > y:\n",
    "    print('{} is greater than {}'.format(x, y))\n",
    "else:\n",
    "    print('{} is greater than {}'.format(y, x))"
   ]
  },
  {
   "cell_type": "code",
   "execution_count": 6,
   "metadata": {
    "ExecuteTime": {
     "end_time": "2018-06-11T04:48:49.680822Z",
     "start_time": "2018-06-11T04:48:49.673823Z"
    }
   },
   "outputs": [
    {
     "name": "stdout",
     "output_type": "stream",
     "text": [
      "10 is greater than 5\n",
      "Name has been changed to The Roy.\n"
     ]
    }
   ],
   "source": [
    "x = 5\n",
    "y = 10\n",
    "name = 'The Roy'\n",
    "if x > y:\n",
    "    print('{} is greater than {}'.format(x, y))\n",
    "    if name is 'The Roy':\n",
    "        name = 'Swetank Subham'\n",
    "    print('Name has been changed to {}.'.format(name))\n",
    "else:\n",
    "    print('{} is greater than {}'.format(y, x))\n",
    "    if name is 'The Roy':\n",
    "        name = 'Jonty Rhodes'\n",
    "    print('Name has been changed to {}.'.format(name))"
   ]
  },
  {
   "cell_type": "code",
   "execution_count": 4,
   "metadata": {
    "ExecuteTime": {
     "end_time": "2018-06-11T04:38:26.563596Z",
     "start_time": "2018-06-11T04:38:26.554600Z"
    }
   },
   "outputs": [
    {
     "name": "stdout",
     "output_type": "stream",
     "text": [
      "5 is greater than 3\n"
     ]
    }
   ],
   "source": [
    "if x > 3:\n",
    "    print('{} is greater than 3'.format(x))\n",
    "elif x < 3:\n",
    "    print('3 is greater than {}'.format(x))\n",
    "else:\n",
    "    print('3 is equal to {}'.format(x))"
   ]
  },
  {
   "cell_type": "markdown",
   "metadata": {},
   "source": [
    "### Question <a class=\"tocSkip\">\n",
    "1. Even odd\n",
    "2. age > 25, gen == male, salary > 50000, eligible\n",
    "3. grading: \n",
    "           >= 90 then A+\n",
    "            80 - 90: A\n",
    "            70 - 80: B\n",
    "            60 - 70: C\n",
    "            50 - 60: D\n",
    "            40 - 50: E\n",
    "            <= 40 : fail\n",
    "4. Leap-year\n",
    "    y % 4 == 0 and (y % 100 != 0 or y % 400 == 0)"
   ]
  },
  {
   "cell_type": "code",
   "execution_count": 5,
   "metadata": {
    "ExecuteTime": {
     "end_time": "2018-06-11T04:47:54.571711Z",
     "start_time": "2018-06-11T04:47:52.462092Z"
    }
   },
   "outputs": [
    {
     "name": "stdout",
     "output_type": "stream",
     "text": [
      "Enter any integer: 6\n",
      "Even\n"
     ]
    }
   ],
   "source": [
    "x = int(input('Enter any integer: '))\n",
    "if x%2 == 0:\n",
    "    print('Even')\n",
    "else:\n",
    "    print('Odd')"
   ]
  },
  {
   "cell_type": "code",
   "execution_count": 13,
   "metadata": {
    "ExecuteTime": {
     "end_time": "2018-06-11T04:54:22.629489Z",
     "start_time": "2018-06-11T04:54:13.531730Z"
    }
   },
   "outputs": [
    {
     "name": "stdout",
     "output_type": "stream",
     "text": [
      "Enter your age: 26\n",
      "Enter your gender: male\n",
      "Enter your salary: 80000\n",
      "You are eligible\n"
     ]
    }
   ],
   "source": [
    "age = int(input('Enter your age: '))\n",
    "gender = input('Enter your gender: ')\n",
    "salary = int(input('Enter your salary: '))\n",
    "if age > 25:\n",
    "    if gender is 'male':\n",
    "        if salary > 50000:\n",
    "            print('You are eligible')\n",
    "else:\n",
    "    print('Sorry! You are not eligible')"
   ]
  },
  {
   "cell_type": "code",
   "execution_count": 15,
   "metadata": {
    "ExecuteTime": {
     "end_time": "2018-06-11T05:06:50.909444Z",
     "start_time": "2018-06-11T05:06:48.613089Z"
    }
   },
   "outputs": [
    {
     "name": "stdout",
     "output_type": "stream",
     "text": [
      "Enter your marks: 56\n",
      "grade: D\n"
     ]
    }
   ],
   "source": [
    "marks = int(input('Enter your marks: '))\n",
    "if marks >= 90:\n",
    "    print('grade: A+')\n",
    "if marks >= 80 and marks < 90:\n",
    "    print('grade: A')\n",
    "if marks >= 70 and marks < 80:\n",
    "    print('grade: B')\n",
    "if marks >= 60 and marks < 70:\n",
    "    print('grade: C')\n",
    "if marks >= 50 and marks < 60:\n",
    "    print('grade: D')\n",
    "if marks >= 40 and marks < 50:\n",
    "    print('grade: E')\n",
    "if marks < 40:\n",
    "    print('Fail')"
   ]
  },
  {
   "cell_type": "code",
   "execution_count": 16,
   "metadata": {
    "ExecuteTime": {
     "end_time": "2018-06-11T05:08:06.517099Z",
     "start_time": "2018-06-11T05:08:03.641325Z"
    }
   },
   "outputs": [
    {
     "name": "stdout",
     "output_type": "stream",
     "text": [
      "Enter year: 2004\n",
      "Year is leap year\n"
     ]
    }
   ],
   "source": [
    "y = int(input('Enter year: '))\n",
    "if y % 4 == 0 and (y % 100 != 0 or y % 400 == 0):\n",
    "    print('Year is leap year')\n",
    "else:\n",
    "    print('Year is not a leap year')"
   ]
  },
  {
   "cell_type": "code",
   "execution_count": 17,
   "metadata": {
    "ExecuteTime": {
     "end_time": "2018-06-11T05:10:34.333335Z",
     "start_time": "2018-06-11T05:10:30.201799Z"
    }
   },
   "outputs": [
    {
     "name": "stdout",
     "output_type": "stream",
     "text": [
      "Enter length: 5\n",
      "Enter breadth: 5\n",
      "Square\n"
     ]
    }
   ],
   "source": [
    "l = int(input('Enter length: '))\n",
    "b = int(input('Enter breadth: '))\n",
    "if l == b:\n",
    "    print('Square')\n",
    "else:\n",
    "    print('Rectangle')"
   ]
  },
  {
   "cell_type": "code",
   "execution_count": 26,
   "metadata": {
    "ExecuteTime": {
     "end_time": "2018-06-11T05:16:57.823861Z",
     "start_time": "2018-06-11T05:16:54.853144Z"
    }
   },
   "outputs": [
    {
     "name": "stdout",
     "output_type": "stream",
     "text": [
      "Enter age of three person on space separation: 5 10 15\n",
      "Youngest is of age 5.\n",
      "Older is of age 15.\n"
     ]
    }
   ],
   "source": [
    "a1 = list(map(int, input('Enter age of three person on space separation: ').split(' ')))\n",
    "print('Youngest is of age {}.'.format(min(a1)))\n",
    "print('Older is of age {}.'.format(max(a1)))"
   ]
  },
  {
   "cell_type": "code",
   "execution_count": 27,
   "metadata": {
    "ExecuteTime": {
     "end_time": "2018-06-11T05:24:10.009294Z",
     "start_time": "2018-06-11T05:24:06.720335Z"
    }
   },
   "outputs": [
    {
     "name": "stdout",
     "output_type": "stream",
     "text": [
      "Enter your points: 150\n",
      "Wooden Dog\n"
     ]
    }
   ],
   "source": [
    "points = int(input('Enter your points: '))\n",
    "if points >= 1 and points <= 50:\n",
    "    print('No Prize')\n",
    "elif points >= 51 and points <= 150:\n",
    "    print('Wooden Dog')\n",
    "elif points >= 151 and points <= 180:\n",
    "    print('Book')\n",
    "elif points >= 181 and points <= 200:\n",
    "    print('Chocolates')"
   ]
  },
  {
   "cell_type": "markdown",
   "metadata": {},
   "source": [
    "## Loops"
   ]
  },
  {
   "cell_type": "markdown",
   "metadata": {},
   "source": [
    "### While loop\n",
    "__Syntax:__ <br>\n",
    "while(if_condition_statement_is_true):<br>\n",
    "&nbsp;&nbsp;&nbsp;&nbsp;entering_into_the_loop<br>\n",
    "&nbsp;&nbsp;&nbsp;&nbsp;terminating_conditions<br>\n",
    "\n",
    "* Note: It is important to keep track of terminating conditions as well, as it may leeds us to an infinite loop."
   ]
  },
  {
   "cell_type": "code",
   "execution_count": 31,
   "metadata": {
    "ExecuteTime": {
     "end_time": "2018-06-11T05:41:16.924001Z",
     "start_time": "2018-06-11T05:41:16.916005Z"
    }
   },
   "outputs": [
    {
     "name": "stdout",
     "output_type": "stream",
     "text": [
      "1 2 3 4 5 6 7 8 9 "
     ]
    }
   ],
   "source": [
    "x = 1\n",
    "while(x < 10):\n",
    "    print(x, end=\" \")\n",
    "    x += 1"
   ]
  },
  {
   "cell_type": "markdown",
   "metadata": {},
   "source": [
    "### For loop\n",
    "__Syntax:__ <br>\n",
    "for something in something_else:<br>\n",
    "&nbsp;&nbsp;&nbsp;&nbsp;do_this"
   ]
  },
  {
   "cell_type": "code",
   "execution_count": 33,
   "metadata": {
    "ExecuteTime": {
     "end_time": "2018-06-11T05:43:05.079462Z",
     "start_time": "2018-06-11T05:43:05.071467Z"
    }
   },
   "outputs": [
    {
     "name": "stdout",
     "output_type": "stream",
     "text": [
      "0 1 2 3 4 5 6 7 8 9 \n",
      "T h e   R o y "
     ]
    }
   ],
   "source": [
    "for i in range(10):\n",
    "    print(i, end=\" \")\n",
    "name = \"The Roy\"\n",
    "print('')\n",
    "for i in name:\n",
    "    print(i, end=\" \")"
   ]
  },
  {
   "cell_type": "markdown",
   "metadata": {},
   "source": [
    "### Break and Continue<a  class=\"tocSkip\">"
   ]
  },
  {
   "cell_type": "code",
   "execution_count": 36,
   "metadata": {
    "ExecuteTime": {
     "end_time": "2018-06-11T05:47:47.232166Z",
     "start_time": "2018-06-11T05:47:47.225169Z"
    }
   },
   "outputs": [
    {
     "name": "stdout",
     "output_type": "stream",
     "text": [
      "0 1 2 3 4 \n",
      "T h e R o y "
     ]
    }
   ],
   "source": [
    "for i in range(10):\n",
    "    if i == 5:\n",
    "        break\n",
    "    else:\n",
    "        print(i, end=\" \")\n",
    "name = \"The Roy\"\n",
    "print('')\n",
    "for i in name:\n",
    "    if i is ' ':\n",
    "        continue\n",
    "    else:\n",
    "        print(i, end=\" \")"
   ]
  },
  {
   "cell_type": "code",
   "execution_count": 41,
   "metadata": {
    "ExecuteTime": {
     "end_time": "2018-06-11T06:03:37.540133Z",
     "start_time": "2018-06-11T06:03:37.531137Z"
    }
   },
   "outputs": [
    {
     "name": "stdout",
     "output_type": "stream",
     "text": [
      "{'ram': 2, 'sita': 3, 'hanuman': 1, 'ravan': 1}\n"
     ]
    }
   ],
   "source": [
    "from collections import defaultdict\n",
    "list1 = ['ram', 'sita', 'ram', 'hanuman', 'ravan', 'sita', 'sita']\n",
    "a = defaultdict(list)\n",
    "for i in list1:\n",
    "    if i in a:\n",
    "        a[i] += 1\n",
    "    else:\n",
    "        a[i] = 1  \n",
    "print(dict(a))"
   ]
  },
  {
   "cell_type": "code",
   "execution_count": 46,
   "metadata": {
    "ExecuteTime": {
     "end_time": "2018-06-11T06:10:24.213355Z",
     "start_time": "2018-06-11T06:10:13.150407Z"
    }
   },
   "outputs": [
    {
     "name": "stdout",
     "output_type": "stream",
     "text": [
      "Enter an integer: 0\n",
      "0 Enter an integer: 1\n",
      "1 Enter an integer: 2\n",
      "2 Enter an integer: 3\n",
      "3 Enter an integer: 4\n",
      "4 Enter an integer: 5\n",
      "5 Enter an integer: 6\n",
      "6 Enter an integer: 7\n",
      "7 Enter an integer: 8\n",
      "8 Enter an integer: 9\n",
      "9 "
     ]
    }
   ],
   "source": [
    "for i in range(10):\n",
    "    i = int(input('Enter an integer: '))\n",
    "    print(i, end=' ')"
   ]
  },
  {
   "cell_type": "code",
   "execution_count": null,
   "metadata": {},
   "outputs": [],
   "source": [
    "while(True):\n",
    "    print('Its in infinite loop')"
   ]
  },
  {
   "cell_type": "code",
   "execution_count": 49,
   "metadata": {
    "ExecuteTime": {
     "end_time": "2018-06-11T06:15:09.844212Z",
     "start_time": "2018-06-11T06:15:02.403333Z"
    }
   },
   "outputs": [
    {
     "name": "stdout",
     "output_type": "stream",
     "text": [
      "Enter space-separated integers: 0 1 2 3 4 5 6 7 8 9\n",
      "0 0\n",
      "1 1\n",
      "2 4\n",
      "3 9\n",
      "4 16\n",
      "5 25\n",
      "6 36\n",
      "7 49\n",
      "8 64\n",
      "9 81\n"
     ]
    }
   ],
   "source": [
    "list1 = list(map(int, input('Enter space-separated integers: ').split(' ')))\n",
    "list2 = []\n",
    "for i in list1:\n",
    "    list2.append(i**2)\n",
    "for i in list1:\n",
    "    print(list1[i], list2[i])"
   ]
  },
  {
   "cell_type": "code",
   "execution_count": 50,
   "metadata": {
    "ExecuteTime": {
     "end_time": "2018-06-11T06:16:48.270462Z",
     "start_time": "2018-06-11T06:16:48.262469Z"
    }
   },
   "outputs": [
    {
     "name": "stdout",
     "output_type": "stream",
     "text": [
      "Roy <class 'str'>\n",
      "5 <class 'int'>\n",
      "5.0 <class 'float'>\n"
     ]
    }
   ],
   "source": [
    "l1 = ['Roy', 5, 5.0]\n",
    "for i in l1:\n",
    "    print(i, type(i))"
   ]
  },
  {
   "cell_type": "code",
   "execution_count": 52,
   "metadata": {
    "ExecuteTime": {
     "end_time": "2018-06-11T06:19:05.170516Z",
     "start_time": "2018-06-11T06:19:05.162522Z"
    }
   },
   "outputs": [
    {
     "name": "stdout",
     "output_type": "stream",
     "text": [
      "[2, 4, 6, 8, 10, 12, 14, 16, 18, 20, 22, 24, 26, 28, 30, 32, 34, 36, 38, 40, 42, 44, 46, 48, 50, 52, 54, 56, 58, 60, 62, 64, 66, 68, 70, 72, 74, 76, 78, 80, 82, 84, 86, 88, 90, 92, 94, 96, 98, 100]\n",
      "[1, 3, 5, 7, 9, 11, 13, 15, 17, 19, 21, 23, 25, 27, 29, 31, 33, 35, 37, 39, 41, 43, 45, 47, 49, 51, 53, 55, 57, 59, 61, 63, 65, 67, 69, 71, 73, 75, 77, 79, 81, 83, 85, 87, 89, 91, 93, 95, 97, 99]\n"
     ]
    }
   ],
   "source": [
    "even_list = []\n",
    "odd_list = []\n",
    "for i in range(1,101):\n",
    "    if i%2 == 0:\n",
    "        even_list.append(i)\n",
    "    else:\n",
    "        odd_list.append(i)\n",
    "print(even_list)\n",
    "print(odd_list)"
   ]
  },
  {
   "cell_type": "code",
   "execution_count": 55,
   "metadata": {
    "ExecuteTime": {
     "end_time": "2018-06-11T06:20:31.276476Z",
     "start_time": "2018-06-11T06:20:31.269480Z"
    }
   },
   "outputs": [
    {
     "name": "stdout",
     "output_type": "stream",
     "text": [
      "*\n",
      "**\n",
      "***\n",
      "****\n",
      "*****\n"
     ]
    }
   ],
   "source": [
    "for i in range(1, 6):\n",
    "    print('*' * i)"
   ]
  },
  {
   "cell_type": "code",
   "execution_count": 56,
   "metadata": {
    "ExecuteTime": {
     "end_time": "2018-06-11T06:24:37.846793Z",
     "start_time": "2018-06-11T06:24:37.840802Z"
    },
    "scrolled": true
   },
   "outputs": [
    {
     "name": "stdout",
     "output_type": "stream",
     "text": [
      "2 3 1 1 "
     ]
    }
   ],
   "source": [
    "for i in a.values():\n",
    "    print(i, end=' ')"
   ]
  },
  {
   "cell_type": "code",
   "execution_count": 67,
   "metadata": {
    "ExecuteTime": {
     "end_time": "2018-06-11T06:34:24.610534Z",
     "start_time": "2018-06-11T06:34:24.602533Z"
    }
   },
   "outputs": [
    {
     "name": "stdout",
     "output_type": "stream",
     "text": [
      "\n",
      "a\n",
      "ab\n",
      "abc\n",
      "abcd\n"
     ]
    }
   ],
   "source": [
    "for i in range(5):\n",
    "    a = ord('a')\n",
    "    for j in range(i):\n",
    "        print(chr(a), end='')\n",
    "        a += 1\n",
    "    print()"
   ]
  },
  {
   "cell_type": "markdown",
   "metadata": {},
   "source": [
    "## Functions\n",
    "__Syntax:__<br>\n",
    "def function_name(parameters):<br>\n",
    "&nbsp;&nbsp;&nbsp;&nbsp;operations"
   ]
  },
  {
   "cell_type": "code",
   "execution_count": 74,
   "metadata": {
    "ExecuteTime": {
     "end_time": "2018-06-11T06:46:20.907043Z",
     "start_time": "2018-06-11T06:46:20.892055Z"
    }
   },
   "outputs": [
    {
     "name": "stdout",
     "output_type": "stream",
     "text": [
      "B.Tech | CSE\n",
      "No data found\n"
     ]
    }
   ],
   "source": [
    "def getData(name):\n",
    "    if name is 'Swetank':\n",
    "        return {'Name' : 'Swetank', 'Age' : 22, 'Stream': 'B.Tech | CSE'}\n",
    "    else:\n",
    "        return 'No data found'\n",
    "print(getData('Swetank')['Stream'])\n",
    "print(getData('Subham'))"
   ]
  },
  {
   "cell_type": "markdown",
   "metadata": {},
   "source": [
    "# DAY 5"
   ]
  },
  {
   "cell_type": "markdown",
   "metadata": {},
   "source": [
    "## List Copy\n",
    "### Deep Copy and Shallow Copy <a class=\"tocSkip\">\n"
   ]
  },
  {
   "cell_type": "code",
   "execution_count": 1,
   "metadata": {
    "ExecuteTime": {
     "end_time": "2018-06-12T04:24:59.566823Z",
     "start_time": "2018-06-12T04:24:59.544819Z"
    }
   },
   "outputs": [
    {
     "data": {
      "text/plain": [
       "'abcehj'"
      ]
     },
     "execution_count": 1,
     "metadata": {},
     "output_type": "execute_result"
    }
   ],
   "source": [
    "x = 'abc'\n",
    "y = 'def'\n",
    "x += 'ehj'\n",
    "x"
   ]
  },
  {
   "cell_type": "code",
   "execution_count": 4,
   "metadata": {
    "ExecuteTime": {
     "end_time": "2018-06-12T04:29:23.431849Z",
     "start_time": "2018-06-12T04:29:23.419850Z"
    }
   },
   "outputs": [
    {
     "name": "stdout",
     "output_type": "stream",
     "text": [
      "2997357858016\n",
      "2997398047912\n"
     ]
    },
    {
     "data": {
      "text/plain": [
       "'abcehj'"
      ]
     },
     "execution_count": 4,
     "metadata": {},
     "output_type": "execute_result"
    }
   ],
   "source": [
    "x = 'abc'\n",
    "print(id(x))\n",
    "y = 'def'\n",
    "x += 'ehj'\n",
    "print(id(x))\n",
    "x"
   ]
  },
  {
   "cell_type": "code",
   "execution_count": 3,
   "metadata": {
    "ExecuteTime": {
     "end_time": "2018-06-12T04:27:03.471289Z",
     "start_time": "2018-06-12T04:27:03.455297Z"
    }
   },
   "outputs": [
    {
     "name": "stdout",
     "output_type": "stream",
     "text": [
      "<class 'tuple'>\n"
     ]
    },
    {
     "data": {
      "text/plain": [
       "(1, 2)"
      ]
     },
     "execution_count": 3,
     "metadata": {},
     "output_type": "execute_result"
    }
   ],
   "source": [
    "tup1 = (1,)\n",
    "tup2 = (2,)\n",
    "tup3 = tup1 + tup2\n",
    "print(type(tup3))\n",
    "tup3"
   ]
  },
  {
   "cell_type": "markdown",
   "metadata": {},
   "source": [
    "### Shallow Copy"
   ]
  },
  {
   "cell_type": "code",
   "execution_count": 8,
   "metadata": {
    "ExecuteTime": {
     "end_time": "2018-06-12T04:35:06.905774Z",
     "start_time": "2018-06-12T04:35:06.897777Z"
    }
   },
   "outputs": [
    {
     "name": "stdout",
     "output_type": "stream",
     "text": [
      "2997398057480\n",
      "2997398057480\n",
      "2997398057480\n",
      "[1, 5, 3]\n",
      "[1, 5, 3]\n"
     ]
    }
   ],
   "source": [
    "a = [1, 2, 3]\n",
    "print(id(a))\n",
    "b = a\n",
    "print(id(b))\n",
    "b[1] = 5\n",
    "print(id(b))\n",
    "print(a)\n",
    "print(b)"
   ]
  },
  {
   "cell_type": "markdown",
   "metadata": {},
   "source": [
    "### Deep Copy"
   ]
  },
  {
   "cell_type": "code",
   "execution_count": 9,
   "metadata": {
    "ExecuteTime": {
     "end_time": "2018-06-12T04:36:28.893676Z",
     "start_time": "2018-06-12T04:36:28.879693Z"
    }
   },
   "outputs": [
    {
     "name": "stdout",
     "output_type": "stream",
     "text": [
      "[1, 5, 3]\n",
      "2997398058056\n",
      "2997398058056\n",
      "[1, 8, 3]\n",
      "[1, 5, 3]\n",
      "[1, 5, 3]\n"
     ]
    }
   ],
   "source": [
    "c = a.copy()\n",
    "print(c)\n",
    "print(id(c))\n",
    "c[1] = 8\n",
    "print(id(c))\n",
    "print(c)\n",
    "print(a)\n",
    "print(b)"
   ]
  },
  {
   "cell_type": "markdown",
   "metadata": {},
   "source": [
    "## List Comprehension"
   ]
  },
  {
   "cell_type": "code",
   "execution_count": 13,
   "metadata": {
    "ExecuteTime": {
     "end_time": "2018-06-12T04:40:17.777132Z",
     "start_time": "2018-06-12T04:40:17.769135Z"
    }
   },
   "outputs": [
    {
     "name": "stdout",
     "output_type": "stream",
     "text": [
      "a1\n",
      "a2\n",
      "a3\n",
      "b1\n",
      "b2\n",
      "b3\n",
      "c1\n",
      "c2\n",
      "c3\n"
     ]
    }
   ],
   "source": [
    "a = ['a','b', 'c']\n",
    "b = [1, 2, 3]\n",
    "for i in range(len(a)):\n",
    "    for j in range(len(b)):\n",
    "        print(a[i],b[j],sep='')"
   ]
  },
  {
   "cell_type": "code",
   "execution_count": 41,
   "metadata": {
    "ExecuteTime": {
     "end_time": "2018-06-12T05:09:32.519989Z",
     "start_time": "2018-06-12T05:09:32.507997Z"
    }
   },
   "outputs": [
    {
     "name": "stdout",
     "output_type": "stream",
     "text": [
      "['a1', 'a2', 'a3', 'b1', 'b2', 'b3', 'c1', 'c2', 'c3']\n"
     ]
    }
   ],
   "source": [
    "print([i + str(j) for i in a for j in b])"
   ]
  },
  {
   "cell_type": "code",
   "execution_count": 51,
   "metadata": {
    "ExecuteTime": {
     "end_time": "2018-06-12T05:26:05.989185Z",
     "start_time": "2018-06-12T05:26:05.982189Z"
    }
   },
   "outputs": [
    {
     "name": "stdout",
     "output_type": "stream",
     "text": [
      "{'sita': 3, 'ravan': 1, 'hanuman': 1, 'ram': 2}\n"
     ]
    }
   ],
   "source": [
    "list1 = ['ram', 'sita', 'ram', 'hanuman', 'ravan', 'sita', 'sita']\n",
    "print({x:list1.count(x) for x in set(list1)})"
   ]
  },
  {
   "cell_type": "code",
   "execution_count": 53,
   "metadata": {
    "ExecuteTime": {
     "end_time": "2018-06-12T05:28:04.016037Z",
     "start_time": "2018-06-12T05:27:50.984311Z"
    }
   },
   "outputs": [
    {
     "name": "stdout",
     "output_type": "stream",
     "text": [
      "Enter number of students to add: 2\n",
      "Enter Name of student: sdfgh\n",
      "Enter Age of Student: 20\n",
      "Enter Name of student: oihgb\n",
      "Enter Age of Student: 21\n",
      "{'Name': ['sdfgh', 'oihgb'], 'Age': [20, 21]}\n"
     ]
    }
   ],
   "source": [
    "d = {'Name' : [], 'Age' : []}\n",
    "i = int(input('Enter number of students to add: '))\n",
    "for i in range(i):\n",
    "    name = input('Enter Name of student: ')\n",
    "    age = int(input('Enter Age of Student: '))\n",
    "    d['Name'].append(name)\n",
    "    d['Age'].append(age)\n",
    "print(d)"
   ]
  },
  {
   "cell_type": "code",
   "execution_count": null,
   "metadata": {},
   "outputs": [],
   "source": []
  },
  {
   "cell_type": "markdown",
   "metadata": {},
   "source": [
    "## Modules\n",
    "### math"
   ]
  },
  {
   "cell_type": "code",
   "execution_count": 65,
   "metadata": {
    "ExecuteTime": {
     "end_time": "2018-06-12T05:43:19.931552Z",
     "start_time": "2018-06-12T05:43:19.921559Z"
    }
   },
   "outputs": [
    {
     "name": "stdout",
     "output_type": "stream",
     "text": [
      "5\n",
      "4\n",
      "-0.2107957994307797\n",
      "-0.977530117665097\n",
      "4.637332054551185\n",
      "257.8310078088705\n",
      "0.07853981633974483\n",
      "24\n",
      "10\n",
      "625.0\n",
      "3.141592653589793\n"
     ]
    }
   ],
   "source": [
    "import math\n",
    "x = 4.5\n",
    "print(math.ceil(x))\n",
    "print(math.floor(x))\n",
    "print(math.cos(x))\n",
    "print(math.sin(x))\n",
    "print(math.tan(x))\n",
    "print(math.degrees(x))\n",
    "print(math.radians(x))\n",
    "print(math.factorial(math.floor(x)))\n",
    "print(math.gcd(math.ceil(x) * 10, math.floor(x) * 10))\n",
    "print(math.pow(math.ceil(x), math.floor(x)))\n",
    "print(math.pi)"
   ]
  },
  {
   "cell_type": "markdown",
   "metadata": {},
   "source": [
    "### os"
   ]
  },
  {
   "cell_type": "code",
   "execution_count": 70,
   "metadata": {
    "ExecuteTime": {
     "end_time": "2018-06-12T05:46:21.982621Z",
     "start_time": "2018-06-12T05:46:21.969635Z"
    }
   },
   "outputs": [
    {
     "name": "stdout",
     "output_type": "stream",
     "text": [
      "nt\n",
      "D:\\Development\\jupyter\\Python3\n",
      "['.ipynb_checkpoints', 'Data Structure and Algorithms Python Udacity', 'Graphs.ipynb', 'Object Oriented Programming in Python', 'PEP SUMMER 2018 py3.ipynb', 'Practice.ipynb', 'Random Tests.ipynb', 'this.png', 'Upload Project Udacity', 'Web Frameworks']\n"
     ]
    }
   ],
   "source": [
    "import os\n",
    "print(os.name)\n",
    "print(os.path.abspath('.'))\n",
    "print(os.listdir('.'))"
   ]
  },
  {
   "cell_type": "markdown",
   "metadata": {},
   "source": [
    "### datetime, time, sys"
   ]
  },
  {
   "cell_type": "code",
   "execution_count": 98,
   "metadata": {
    "ExecuteTime": {
     "end_time": "2018-06-12T06:29:18.529676Z",
     "start_time": "2018-06-12T06:29:08.109585Z"
    }
   },
   "outputs": [
    {
     "name": "stdout",
     "output_type": "stream",
     "text": [
      "1528784948.1125827\n",
      "2018-06-12\n",
      "11:59:08\n",
      "11:59:09\n",
      "11:59:10\n",
      "11:59:11\n",
      "11:59:12\n",
      "11:59:13\n",
      "11:59:14\n",
      "11:59:15\n",
      "11:59:16\n",
      "11:59:17\n"
     ]
    }
   ],
   "source": [
    "import datetime, time, os, sys\n",
    "print(time.time())\n",
    "print(datetime.date.today())\n",
    "for _ in range(10):\n",
    "    print(time.strftime(\"%H:%M:%S\"))\n",
    "    sys.stdout.flush()\n",
    "    time.sleep(1)\n",
    "    os.system('cls') # will work on command prompt and on windows for linux use 'clear' instead of 'cls'"
   ]
  },
  {
   "cell_type": "markdown",
   "metadata": {},
   "source": [
    "## Exception Handling"
   ]
  },
  {
   "cell_type": "code",
   "execution_count": 99,
   "metadata": {
    "ExecuteTime": {
     "end_time": "2018-06-12T06:36:10.330595Z",
     "start_time": "2018-06-12T06:36:10.323597Z"
    }
   },
   "outputs": [
    {
     "data": {
      "text/plain": [
       "5.0"
      ]
     },
     "execution_count": 99,
     "metadata": {},
     "output_type": "execute_result"
    }
   ],
   "source": [
    "x = 5\n",
    "y = 1\n",
    "x/y"
   ]
  },
  {
   "cell_type": "code",
   "execution_count": 100,
   "metadata": {
    "ExecuteTime": {
     "end_time": "2018-06-12T06:36:22.351495Z",
     "start_time": "2018-06-12T06:36:22.337501Z"
    }
   },
   "outputs": [
    {
     "ename": "ZeroDivisionError",
     "evalue": "division by zero",
     "output_type": "error",
     "traceback": [
      "\u001b[1;31m---------------------------------------------------------------------------\u001b[0m",
      "\u001b[1;31mZeroDivisionError\u001b[0m                         Traceback (most recent call last)",
      "\u001b[1;32m<ipython-input-100-75c644cfb29f>\u001b[0m in \u001b[0;36m<module>\u001b[1;34m()\u001b[0m\n\u001b[0;32m      1\u001b[0m \u001b[0my\u001b[0m \u001b[1;33m=\u001b[0m \u001b[1;36m0\u001b[0m\u001b[1;33m\u001b[0m\u001b[0m\n\u001b[1;32m----> 2\u001b[1;33m \u001b[0mx\u001b[0m\u001b[1;33m/\u001b[0m\u001b[0my\u001b[0m\u001b[1;33m\u001b[0m\u001b[0m\n\u001b[0m",
      "\u001b[1;31mZeroDivisionError\u001b[0m: division by zero"
     ]
    }
   ],
   "source": [
    "y = 0\n",
    "x/y"
   ]
  },
  {
   "cell_type": "code",
   "execution_count": 112,
   "metadata": {
    "ExecuteTime": {
     "end_time": "2018-06-12T06:53:22.961651Z",
     "start_time": "2018-06-12T06:53:22.954652Z"
    }
   },
   "outputs": [
    {
     "name": "stdout",
     "output_type": "stream",
     "text": [
      "All worked\n",
      "All worked\n",
      "All worked\n"
     ]
    }
   ],
   "source": [
    "def div(x, y):\n",
    "    try:\n",
    "        return x/y\n",
    "    except(ZeroDivisionError):\n",
    "        return 'Not Defined'\n",
    "    except(TypeError):\n",
    "        return 'Invalid parameter passed'\n",
    "    finally:\n",
    "        return 'All worked'\n",
    "print(div(5, 1))\n",
    "print(div(5, 0))\n",
    "print(div(5, 'a'))"
   ]
  },
  {
   "cell_type": "markdown",
   "metadata": {},
   "source": [
    "# DAY 6"
   ]
  },
  {
   "cell_type": "markdown",
   "metadata": {},
   "source": [
    "## Exception Handling Continue"
   ]
  },
  {
   "cell_type": "code",
   "execution_count": 6,
   "metadata": {
    "ExecuteTime": {
     "end_time": "2018-06-13T04:22:55.942379Z",
     "start_time": "2018-06-13T04:22:55.929386Z"
    }
   },
   "outputs": [
    {
     "name": "stdout",
     "output_type": "stream",
     "text": [
      "ZeroDivisionError has occured\n"
     ]
    }
   ],
   "source": [
    "a = 3\n",
    "try:\n",
    "    if a < 4:\n",
    "        a = a/(a - 3)\n",
    "        print(a)\n",
    "except ZeroDivisionError:\n",
    "    print(\"ZeroDivisionError has occured\")"
   ]
  },
  {
   "cell_type": "code",
   "execution_count": 7,
   "metadata": {
    "ExecuteTime": {
     "end_time": "2018-06-13T04:22:58.608357Z",
     "start_time": "2018-06-13T04:22:58.595364Z"
    }
   },
   "outputs": [
    {
     "name": "stdout",
     "output_type": "stream",
     "text": [
      "IndexError has occured\n"
     ]
    }
   ],
   "source": [
    "l = [1, 2, 3]\n",
    "try:\n",
    "    print(l[3])\n",
    "except IndexError:\n",
    "    print(\"IndexError has occured\")"
   ]
  },
  {
   "cell_type": "code",
   "execution_count": 10,
   "metadata": {
    "ExecuteTime": {
     "end_time": "2018-06-13T04:30:04.434897Z",
     "start_time": "2018-06-13T04:30:04.428892Z"
    }
   },
   "outputs": [
    {
     "name": "stdout",
     "output_type": "stream",
     "text": [
      "An user defined error has occured\n"
     ]
    }
   ],
   "source": [
    "try:\n",
    "    raise NameError(\"Hi There\")\n",
    "except NameError:\n",
    "    print(\"An user defined error has occured\")"
   ]
  },
  {
   "cell_type": "code",
   "execution_count": null,
   "metadata": {
    "ExecuteTime": {
     "end_time": "2018-06-13T04:34:40.317561Z",
     "start_time": "2018-06-13T04:34:40.309564Z"
    }
   },
   "outputs": [],
   "source": [
    "def AbyB(a, b):\n",
    "    try:\n",
    "        c = ((a + b)/(A - b))\n",
    "    except ZeroDivisionError:\n",
    "        print('Divind with zero has triggered ZeroDivisionError')\n",
    "        "
   ]
  },
  {
   "cell_type": "markdown",
   "metadata": {},
   "source": [
    "## File Handling"
   ]
  },
  {
   "cell_type": "code",
   "execution_count": 24,
   "metadata": {
    "ExecuteTime": {
     "end_time": "2018-06-13T04:49:19.766923Z",
     "start_time": "2018-06-13T04:49:19.760924Z"
    }
   },
   "outputs": [
    {
     "name": "stdout",
     "output_type": "stream",
     "text": [
      "Hey There,\n",
      "I'm Swetank Subham.\n"
     ]
    }
   ],
   "source": [
    "f = open(\"fileHandle1.txt\", \"r\")\n",
    "print(f.read())\n",
    "f.close()"
   ]
  },
  {
   "cell_type": "code",
   "execution_count": 28,
   "metadata": {
    "ExecuteTime": {
     "end_time": "2018-06-13T05:06:22.110446Z",
     "start_time": "2018-06-13T05:06:22.103450Z"
    }
   },
   "outputs": [
    {
     "name": "stdout",
     "output_type": "stream",
     "text": [
      "Hey There,\n",
      "\n"
     ]
    }
   ],
   "source": [
    "f = open(\"fileHandle1.txt\", mode=\"r\")\n",
    "print(f.readline())\n",
    "f.close()"
   ]
  },
  {
   "cell_type": "code",
   "execution_count": 26,
   "metadata": {
    "ExecuteTime": {
     "end_time": "2018-06-13T04:49:40.924288Z",
     "start_time": "2018-06-13T04:49:40.917293Z"
    }
   },
   "outputs": [
    {
     "name": "stdout",
     "output_type": "stream",
     "text": [
      "['Hey There,\\n', \"I'm Swetank Subham.\"]\n"
     ]
    }
   ],
   "source": [
    "f = open(\"fileHandle1.txt\", \"r\")\n",
    "print(f.readlines())\n",
    "f.close()"
   ]
  },
  {
   "cell_type": "code",
   "execution_count": 35,
   "metadata": {
    "ExecuteTime": {
     "end_time": "2018-06-13T05:26:16.411520Z",
     "start_time": "2018-06-13T05:26:16.399536Z"
    }
   },
   "outputs": [
    {
     "name": "stdout",
     "output_type": "stream",
     "text": [
      "Hey There,\n",
      "I'm Swetank Subham."
     ]
    },
    {
     "data": {
      "text/plain": [
       "[None, None]"
      ]
     },
     "execution_count": 35,
     "metadata": {},
     "output_type": "execute_result"
    }
   ],
   "source": [
    "with open(\"fileHandle1.txt\", mode=\"r\") as f:\n",
    "    d = f.readlines()\n",
    "[print(x, end='') for x in d]"
   ]
  },
  {
   "cell_type": "code",
   "execution_count": 10,
   "metadata": {
    "ExecuteTime": {
     "end_time": "2018-06-13T05:56:31.605916Z",
     "start_time": "2018-06-13T05:56:28.271148Z"
    }
   },
   "outputs": [
    {
     "name": "stdout",
     "output_type": "stream",
     "text": [
      "Enter New Text here: Updated\n",
      "Updated\n"
     ]
    }
   ],
   "source": [
    "file = open(\"fileHandle1.txt\", \"w\")\n",
    "file.write(input('Enter New Text here: '))\n",
    "file.close()\n",
    "f = open(\"fileHandle1.txt\", \"r\")\n",
    "print(f.read())\n",
    "f.close()"
   ]
  },
  {
   "cell_type": "code",
   "execution_count": 11,
   "metadata": {
    "ExecuteTime": {
     "end_time": "2018-06-13T05:56:34.082071Z",
     "start_time": "2018-06-13T05:56:34.068082Z"
    }
   },
   "outputs": [
    {
     "name": "stdout",
     "output_type": "stream",
     "text": [
      "UpdatedUpdated: 11:26:34 2018-06-13\n"
     ]
    }
   ],
   "source": [
    "import time, datetime\n",
    "f = open(\"fileHandle1.txt\",\"a\")\n",
    "f.write(\"Updated: \" + str(time.strftime('%H:%M:%S')) + \" \" + str(datetime.date.today()))\n",
    "f.close()\n",
    "f = open(\"fileHandle1.txt\",\"r\")\n",
    "print(f.read())"
   ]
  },
  {
   "cell_type": "code",
   "execution_count": null,
   "metadata": {},
   "outputs": [],
   "source": []
  }
 ],
 "metadata": {
  "gist": {
   "data": {
    "description": "PEP SUMMER 2018 py2.ipynb",
    "public": true
   },
   "id": ""
  },
  "kernelspec": {
   "display_name": "Python 3",
   "language": "python",
   "name": "python3"
  },
  "language_info": {
   "codemirror_mode": {
    "name": "ipython",
    "version": 3
   },
   "file_extension": ".py",
   "mimetype": "text/x-python",
   "name": "python",
   "nbconvert_exporter": "python",
   "pygments_lexer": "ipython3",
   "version": "3.6.5"
  },
  "latex_envs": {
   "LaTeX_envs_menu_present": true,
   "autoclose": false,
   "autocomplete": true,
   "bibliofile": "biblio.bib",
   "cite_by": "apalike",
   "current_citInitial": 1,
   "eqLabelWithNumbers": true,
   "eqNumInitial": 1,
   "hotkeys": {
    "equation": "Ctrl-E",
    "itemize": "Ctrl-I"
   },
   "labels_anchors": false,
   "latex_user_defs": false,
   "report_style_numbering": false,
   "user_envs_cfg": false
  },
  "toc": {
   "base_numbering": 1,
   "nav_menu": {
    "height": "602px",
    "width": "710px"
   },
   "number_sections": true,
   "sideBar": true,
   "skip_h1_title": false,
   "title_cell": "Table of Contents",
   "title_sidebar": "Contents",
   "toc_cell": true,
   "toc_position": {
    "height": "520px",
    "left": "984px",
    "top": "110.5px",
    "width": "264px"
   },
   "toc_section_display": true,
   "toc_window_display": true
  }
 },
 "nbformat": 4,
 "nbformat_minor": 2
}
